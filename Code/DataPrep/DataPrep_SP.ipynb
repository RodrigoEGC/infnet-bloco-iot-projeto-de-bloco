{
 "cells": [
  {
   "cell_type": "markdown",
   "id": "1267f337",
   "metadata": {},
   "source": [
    "# Analise de dados da cidade de São Paulo"
   ]
  },
  {
   "cell_type": "markdown",
   "id": "70432ff9",
   "metadata": {},
   "source": [
    "### Importação das bibliotecas de base para o projeto e o link para o Driver com o CSV"
   ]
  },
  {
   "cell_type": "code",
   "execution_count": 1,
   "id": "2e867149",
   "metadata": {},
   "outputs": [],
   "source": [
    "import numpy as np\n",
    "import pandas as pd\n",
    "import seaborn as sns\n",
    "import matplotlib.pyplot as plt\n",
    "from datetime import datetime\n",
    "from sklearn import metrics\n",
    "from sklearn.neighbors import KNeighborsClassifier\n",
    "import matplotlib.pyplot as plt\n",
    "from statsmodels.tsa.seasonal import seasonal_decompose\n",
    "\n",
    "#______________________________________________________________________________________#\n",
    "# Link do CSV: https://drive.google.com/drive/folders/1Am0Qv2j1MrKyjwroYFFOR5yQ2zl6607x\n",
    "#______________________________________________________________________________________#"
   ]
  },
  {
   "cell_type": "markdown",
   "id": "435a09b8",
   "metadata": {},
   "source": [
    "### Leitura do CSV e amostra dos dados antes do tratamento"
   ]
  },
  {
   "cell_type": "code",
   "execution_count": 61,
   "id": "0039c262",
   "metadata": {},
   "outputs": [
    {
     "data": {
      "text/html": [
       "<div>\n",
       "<style scoped>\n",
       "    .dataframe tbody tr th:only-of-type {\n",
       "        vertical-align: middle;\n",
       "    }\n",
       "\n",
       "    .dataframe tbody tr th {\n",
       "        vertical-align: top;\n",
       "    }\n",
       "\n",
       "    .dataframe thead th {\n",
       "        text-align: right;\n",
       "    }\n",
       "</style>\n",
       "<table border=\"1\" class=\"dataframe\">\n",
       "  <thead>\n",
       "    <tr style=\"text-align: right;\">\n",
       "      <th></th>\n",
       "      <th>Region</th>\n",
       "      <th>Country</th>\n",
       "      <th>State</th>\n",
       "      <th>City</th>\n",
       "      <th>Month</th>\n",
       "      <th>Day</th>\n",
       "      <th>Year</th>\n",
       "      <th>AvgTemperature</th>\n",
       "    </tr>\n",
       "  </thead>\n",
       "  <tbody>\n",
       "    <tr>\n",
       "      <th>0</th>\n",
       "      <td>Africa</td>\n",
       "      <td>Algeria</td>\n",
       "      <td>NaN</td>\n",
       "      <td>Algiers</td>\n",
       "      <td>1</td>\n",
       "      <td>1</td>\n",
       "      <td>1995</td>\n",
       "      <td>64.2</td>\n",
       "    </tr>\n",
       "    <tr>\n",
       "      <th>1</th>\n",
       "      <td>Africa</td>\n",
       "      <td>Algeria</td>\n",
       "      <td>NaN</td>\n",
       "      <td>Algiers</td>\n",
       "      <td>1</td>\n",
       "      <td>2</td>\n",
       "      <td>1995</td>\n",
       "      <td>49.4</td>\n",
       "    </tr>\n",
       "    <tr>\n",
       "      <th>2</th>\n",
       "      <td>Africa</td>\n",
       "      <td>Algeria</td>\n",
       "      <td>NaN</td>\n",
       "      <td>Algiers</td>\n",
       "      <td>1</td>\n",
       "      <td>3</td>\n",
       "      <td>1995</td>\n",
       "      <td>48.8</td>\n",
       "    </tr>\n",
       "    <tr>\n",
       "      <th>3</th>\n",
       "      <td>Africa</td>\n",
       "      <td>Algeria</td>\n",
       "      <td>NaN</td>\n",
       "      <td>Algiers</td>\n",
       "      <td>1</td>\n",
       "      <td>4</td>\n",
       "      <td>1995</td>\n",
       "      <td>46.4</td>\n",
       "    </tr>\n",
       "    <tr>\n",
       "      <th>4</th>\n",
       "      <td>Africa</td>\n",
       "      <td>Algeria</td>\n",
       "      <td>NaN</td>\n",
       "      <td>Algiers</td>\n",
       "      <td>1</td>\n",
       "      <td>5</td>\n",
       "      <td>1995</td>\n",
       "      <td>47.9</td>\n",
       "    </tr>\n",
       "    <tr>\n",
       "      <th>...</th>\n",
       "      <td>...</td>\n",
       "      <td>...</td>\n",
       "      <td>...</td>\n",
       "      <td>...</td>\n",
       "      <td>...</td>\n",
       "      <td>...</td>\n",
       "      <td>...</td>\n",
       "      <td>...</td>\n",
       "    </tr>\n",
       "    <tr>\n",
       "      <th>2906322</th>\n",
       "      <td>North America</td>\n",
       "      <td>US</td>\n",
       "      <td>Additional Territories</td>\n",
       "      <td>San Juan Puerto Rico</td>\n",
       "      <td>7</td>\n",
       "      <td>27</td>\n",
       "      <td>2013</td>\n",
       "      <td>82.4</td>\n",
       "    </tr>\n",
       "    <tr>\n",
       "      <th>2906323</th>\n",
       "      <td>North America</td>\n",
       "      <td>US</td>\n",
       "      <td>Additional Territories</td>\n",
       "      <td>San Juan Puerto Rico</td>\n",
       "      <td>7</td>\n",
       "      <td>28</td>\n",
       "      <td>2013</td>\n",
       "      <td>81.6</td>\n",
       "    </tr>\n",
       "    <tr>\n",
       "      <th>2906324</th>\n",
       "      <td>North America</td>\n",
       "      <td>US</td>\n",
       "      <td>Additional Territories</td>\n",
       "      <td>San Juan Puerto Rico</td>\n",
       "      <td>7</td>\n",
       "      <td>29</td>\n",
       "      <td>2013</td>\n",
       "      <td>84.2</td>\n",
       "    </tr>\n",
       "    <tr>\n",
       "      <th>2906325</th>\n",
       "      <td>North America</td>\n",
       "      <td>US</td>\n",
       "      <td>Additional Territories</td>\n",
       "      <td>San Juan Puerto Rico</td>\n",
       "      <td>7</td>\n",
       "      <td>30</td>\n",
       "      <td>2013</td>\n",
       "      <td>83.8</td>\n",
       "    </tr>\n",
       "    <tr>\n",
       "      <th>2906326</th>\n",
       "      <td>North America</td>\n",
       "      <td>US</td>\n",
       "      <td>Additional Territories</td>\n",
       "      <td>San Juan Puerto Rico</td>\n",
       "      <td>7</td>\n",
       "      <td>31</td>\n",
       "      <td>2013</td>\n",
       "      <td>83.6</td>\n",
       "    </tr>\n",
       "  </tbody>\n",
       "</table>\n",
       "<p>2906327 rows × 8 columns</p>\n",
       "</div>"
      ],
      "text/plain": [
       "                Region  Country                   State                  City  \\\n",
       "0               Africa  Algeria                     NaN               Algiers   \n",
       "1               Africa  Algeria                     NaN               Algiers   \n",
       "2               Africa  Algeria                     NaN               Algiers   \n",
       "3               Africa  Algeria                     NaN               Algiers   \n",
       "4               Africa  Algeria                     NaN               Algiers   \n",
       "...                ...      ...                     ...                   ...   \n",
       "2906322  North America       US  Additional Territories  San Juan Puerto Rico   \n",
       "2906323  North America       US  Additional Territories  San Juan Puerto Rico   \n",
       "2906324  North America       US  Additional Territories  San Juan Puerto Rico   \n",
       "2906325  North America       US  Additional Territories  San Juan Puerto Rico   \n",
       "2906326  North America       US  Additional Territories  San Juan Puerto Rico   \n",
       "\n",
       "         Month  Day  Year  AvgTemperature  \n",
       "0            1    1  1995            64.2  \n",
       "1            1    2  1995            49.4  \n",
       "2            1    3  1995            48.8  \n",
       "3            1    4  1995            46.4  \n",
       "4            1    5  1995            47.9  \n",
       "...        ...  ...   ...             ...  \n",
       "2906322      7   27  2013            82.4  \n",
       "2906323      7   28  2013            81.6  \n",
       "2906324      7   29  2013            84.2  \n",
       "2906325      7   30  2013            83.8  \n",
       "2906326      7   31  2013            83.6  \n",
       "\n",
       "[2906327 rows x 8 columns]"
      ]
     },
     "execution_count": 61,
     "metadata": {},
     "output_type": "execute_result"
    }
   ],
   "source": [
    "data = pd.read_csv('city_temperature.csv', low_memory=False)\n",
    "data"
   ]
  },
  {
   "cell_type": "markdown",
   "id": "9ae6f59e",
   "metadata": {},
   "source": [
    "### Seleção da cidade de São Paulo para analises, com remoção de valores nulos"
   ]
  },
  {
   "cell_type": "code",
   "execution_count": 62,
   "id": "57e04233",
   "metadata": {},
   "outputs": [],
   "source": [
    "brasil = data[(data['Country'] == 'Brazil')]\n",
    "sp = brasil[(brasil['City'] == 'Sao Paulo')]\n",
    "sp = sp.dropna(axis=\"columns\", how=\"any\")"
   ]
  },
  {
   "cell_type": "markdown",
   "id": "9a87c418",
   "metadata": {},
   "source": [
    "### Função para a conversão de fahrenheit para celsius"
   ]
  },
  {
   "cell_type": "code",
   "execution_count": 63,
   "id": "98d8bc15",
   "metadata": {},
   "outputs": [],
   "source": [
    "def converter_termperatura(temp):\n",
    "    temp = (temp - 32) * 5/9\n",
    "    return float(temp)"
   ]
  },
  {
   "cell_type": "markdown",
   "id": "47b3281c",
   "metadata": {},
   "source": [
    "### Fazendo a conversão de fahrenheit para celsius dentro de uma nova coluna e deletando a de fahrenheit"
   ]
  },
  {
   "cell_type": "code",
   "execution_count": 64,
   "id": "7f47aa45",
   "metadata": {},
   "outputs": [],
   "source": [
    "sp['Celsius'] = sp['AvgTemperature'].apply(converter_termperatura)\n",
    "sp = sp.drop(columns=['AvgTemperature'])"
   ]
  },
  {
   "cell_type": "markdown",
   "id": "c9c41591",
   "metadata": {},
   "source": [
    "### Tratamento da temperatura para maior precisão"
   ]
  },
  {
   "cell_type": "code",
   "execution_count": 65,
   "id": "bc79e983",
   "metadata": {},
   "outputs": [
    {
     "data": {
      "text/html": [
       "<div>\n",
       "<style scoped>\n",
       "    .dataframe tbody tr th:only-of-type {\n",
       "        vertical-align: middle;\n",
       "    }\n",
       "\n",
       "    .dataframe tbody tr th {\n",
       "        vertical-align: top;\n",
       "    }\n",
       "\n",
       "    .dataframe thead th {\n",
       "        text-align: right;\n",
       "    }\n",
       "</style>\n",
       "<table border=\"1\" class=\"dataframe\">\n",
       "  <thead>\n",
       "    <tr style=\"text-align: right;\">\n",
       "      <th></th>\n",
       "      <th>Region</th>\n",
       "      <th>Country</th>\n",
       "      <th>City</th>\n",
       "      <th>Month</th>\n",
       "      <th>Day</th>\n",
       "      <th>Year</th>\n",
       "      <th>Celsius</th>\n",
       "    </tr>\n",
       "  </thead>\n",
       "  <tbody>\n",
       "    <tr>\n",
       "      <th>1301306</th>\n",
       "      <td>South/Central America &amp; Carribean</td>\n",
       "      <td>Brazil</td>\n",
       "      <td>Sao Paulo</td>\n",
       "      <td>1</td>\n",
       "      <td>1</td>\n",
       "      <td>1995</td>\n",
       "      <td>22</td>\n",
       "    </tr>\n",
       "    <tr>\n",
       "      <th>1301307</th>\n",
       "      <td>South/Central America &amp; Carribean</td>\n",
       "      <td>Brazil</td>\n",
       "      <td>Sao Paulo</td>\n",
       "      <td>1</td>\n",
       "      <td>2</td>\n",
       "      <td>1995</td>\n",
       "      <td>23</td>\n",
       "    </tr>\n",
       "    <tr>\n",
       "      <th>1301308</th>\n",
       "      <td>South/Central America &amp; Carribean</td>\n",
       "      <td>Brazil</td>\n",
       "      <td>Sao Paulo</td>\n",
       "      <td>1</td>\n",
       "      <td>3</td>\n",
       "      <td>1995</td>\n",
       "      <td>22</td>\n",
       "    </tr>\n",
       "    <tr>\n",
       "      <th>1301309</th>\n",
       "      <td>South/Central America &amp; Carribean</td>\n",
       "      <td>Brazil</td>\n",
       "      <td>Sao Paulo</td>\n",
       "      <td>1</td>\n",
       "      <td>4</td>\n",
       "      <td>1995</td>\n",
       "      <td>22</td>\n",
       "    </tr>\n",
       "    <tr>\n",
       "      <th>1301310</th>\n",
       "      <td>South/Central America &amp; Carribean</td>\n",
       "      <td>Brazil</td>\n",
       "      <td>Sao Paulo</td>\n",
       "      <td>1</td>\n",
       "      <td>5</td>\n",
       "      <td>1995</td>\n",
       "      <td>24</td>\n",
       "    </tr>\n",
       "    <tr>\n",
       "      <th>...</th>\n",
       "      <td>...</td>\n",
       "      <td>...</td>\n",
       "      <td>...</td>\n",
       "      <td>...</td>\n",
       "      <td>...</td>\n",
       "      <td>...</td>\n",
       "      <td>...</td>\n",
       "    </tr>\n",
       "    <tr>\n",
       "      <th>1310567</th>\n",
       "      <td>South/Central America &amp; Carribean</td>\n",
       "      <td>Brazil</td>\n",
       "      <td>Sao Paulo</td>\n",
       "      <td>5</td>\n",
       "      <td>9</td>\n",
       "      <td>2020</td>\n",
       "      <td>16</td>\n",
       "    </tr>\n",
       "    <tr>\n",
       "      <th>1310568</th>\n",
       "      <td>South/Central America &amp; Carribean</td>\n",
       "      <td>Brazil</td>\n",
       "      <td>Sao Paulo</td>\n",
       "      <td>5</td>\n",
       "      <td>10</td>\n",
       "      <td>2020</td>\n",
       "      <td>17</td>\n",
       "    </tr>\n",
       "    <tr>\n",
       "      <th>1310569</th>\n",
       "      <td>South/Central America &amp; Carribean</td>\n",
       "      <td>Brazil</td>\n",
       "      <td>Sao Paulo</td>\n",
       "      <td>5</td>\n",
       "      <td>11</td>\n",
       "      <td>2020</td>\n",
       "      <td>18</td>\n",
       "    </tr>\n",
       "    <tr>\n",
       "      <th>1310570</th>\n",
       "      <td>South/Central America &amp; Carribean</td>\n",
       "      <td>Brazil</td>\n",
       "      <td>Sao Paulo</td>\n",
       "      <td>5</td>\n",
       "      <td>12</td>\n",
       "      <td>2020</td>\n",
       "      <td>19</td>\n",
       "    </tr>\n",
       "    <tr>\n",
       "      <th>1310571</th>\n",
       "      <td>South/Central America &amp; Carribean</td>\n",
       "      <td>Brazil</td>\n",
       "      <td>Sao Paulo</td>\n",
       "      <td>5</td>\n",
       "      <td>13</td>\n",
       "      <td>2020</td>\n",
       "      <td>17</td>\n",
       "    </tr>\n",
       "  </tbody>\n",
       "</table>\n",
       "<p>9266 rows × 7 columns</p>\n",
       "</div>"
      ],
      "text/plain": [
       "                                    Region Country       City  Month  Day  \\\n",
       "1301306  South/Central America & Carribean  Brazil  Sao Paulo      1    1   \n",
       "1301307  South/Central America & Carribean  Brazil  Sao Paulo      1    2   \n",
       "1301308  South/Central America & Carribean  Brazil  Sao Paulo      1    3   \n",
       "1301309  South/Central America & Carribean  Brazil  Sao Paulo      1    4   \n",
       "1301310  South/Central America & Carribean  Brazil  Sao Paulo      1    5   \n",
       "...                                    ...     ...        ...    ...  ...   \n",
       "1310567  South/Central America & Carribean  Brazil  Sao Paulo      5    9   \n",
       "1310568  South/Central America & Carribean  Brazil  Sao Paulo      5   10   \n",
       "1310569  South/Central America & Carribean  Brazil  Sao Paulo      5   11   \n",
       "1310570  South/Central America & Carribean  Brazil  Sao Paulo      5   12   \n",
       "1310571  South/Central America & Carribean  Brazil  Sao Paulo      5   13   \n",
       "\n",
       "         Year  Celsius  \n",
       "1301306  1995       22  \n",
       "1301307  1995       23  \n",
       "1301308  1995       22  \n",
       "1301309  1995       22  \n",
       "1301310  1995       24  \n",
       "...       ...      ...  \n",
       "1310567  2020       16  \n",
       "1310568  2020       17  \n",
       "1310569  2020       18  \n",
       "1310570  2020       19  \n",
       "1310571  2020       17  \n",
       "\n",
       "[9266 rows x 7 columns]"
      ]
     },
     "execution_count": 65,
     "metadata": {},
     "output_type": "execute_result"
    }
   ],
   "source": [
    "sp['Celsius'] = sp['Celsius'].apply(np.int64)\n",
    "sp"
   ]
  },
  {
   "cell_type": "markdown",
   "id": "50abb622",
   "metadata": {},
   "source": [
    "### Juntando as coluas ano/mês/dia em uma nova coluna chamada Date"
   ]
  },
  {
   "cell_type": "code",
   "execution_count": 66,
   "id": "62ecdd1c",
   "metadata": {},
   "outputs": [],
   "source": [
    "cols=[\"Year\",\"Month\",\"Day\"]\n",
    "sp['Date'] = sp[cols].apply(lambda x: '-'.join(x.values.astype(str)), axis=\"columns\")"
   ]
  },
  {
   "cell_type": "markdown",
   "id": "5f9a7964",
   "metadata": {},
   "source": [
    "### Escolhendo as temperaturas de acordo com a cidade de São Paulo"
   ]
  },
  {
   "cell_type": "code",
   "execution_count": 67,
   "id": "fd7f3f88",
   "metadata": {},
   "outputs": [],
   "source": [
    "sp = sp[sp['Celsius'] < 50]\n",
    "sp = sp[sp['Celsius'] > 0]"
   ]
  },
  {
   "cell_type": "markdown",
   "id": "662fa796",
   "metadata": {},
   "source": [
    "### Convertendo a coluna Date em série temporal na nova coluna ds"
   ]
  },
  {
   "cell_type": "code",
   "execution_count": 68,
   "id": "2aea0f4e",
   "metadata": {},
   "outputs": [],
   "source": [
    "sp['ds'] = pd.to_datetime(sp['Date'])"
   ]
  },
  {
   "cell_type": "markdown",
   "id": "67c5e3c6",
   "metadata": {},
   "source": [
    "### Deletando a coluna Date"
   ]
  },
  {
   "cell_type": "code",
   "execution_count": 69,
   "id": "c9db499f",
   "metadata": {},
   "outputs": [],
   "source": [
    "sp = sp.drop('Date', axis = 1)"
   ]
  },
  {
   "cell_type": "markdown",
   "id": "1be8e1eb",
   "metadata": {},
   "source": [
    "### Exibindo os dados com a nova coluna ds"
   ]
  },
  {
   "cell_type": "code",
   "execution_count": 70,
   "id": "9e70640a",
   "metadata": {},
   "outputs": [
    {
     "data": {
      "text/html": [
       "<div>\n",
       "<style scoped>\n",
       "    .dataframe tbody tr th:only-of-type {\n",
       "        vertical-align: middle;\n",
       "    }\n",
       "\n",
       "    .dataframe tbody tr th {\n",
       "        vertical-align: top;\n",
       "    }\n",
       "\n",
       "    .dataframe thead th {\n",
       "        text-align: right;\n",
       "    }\n",
       "</style>\n",
       "<table border=\"1\" class=\"dataframe\">\n",
       "  <thead>\n",
       "    <tr style=\"text-align: right;\">\n",
       "      <th></th>\n",
       "      <th>Region</th>\n",
       "      <th>Country</th>\n",
       "      <th>City</th>\n",
       "      <th>Month</th>\n",
       "      <th>Day</th>\n",
       "      <th>Year</th>\n",
       "      <th>Celsius</th>\n",
       "      <th>ds</th>\n",
       "    </tr>\n",
       "  </thead>\n",
       "  <tbody>\n",
       "    <tr>\n",
       "      <th>1301306</th>\n",
       "      <td>South/Central America &amp; Carribean</td>\n",
       "      <td>Brazil</td>\n",
       "      <td>Sao Paulo</td>\n",
       "      <td>1</td>\n",
       "      <td>1</td>\n",
       "      <td>1995</td>\n",
       "      <td>22</td>\n",
       "      <td>1995-01-01</td>\n",
       "    </tr>\n",
       "    <tr>\n",
       "      <th>1301307</th>\n",
       "      <td>South/Central America &amp; Carribean</td>\n",
       "      <td>Brazil</td>\n",
       "      <td>Sao Paulo</td>\n",
       "      <td>1</td>\n",
       "      <td>2</td>\n",
       "      <td>1995</td>\n",
       "      <td>23</td>\n",
       "      <td>1995-01-02</td>\n",
       "    </tr>\n",
       "    <tr>\n",
       "      <th>1301308</th>\n",
       "      <td>South/Central America &amp; Carribean</td>\n",
       "      <td>Brazil</td>\n",
       "      <td>Sao Paulo</td>\n",
       "      <td>1</td>\n",
       "      <td>3</td>\n",
       "      <td>1995</td>\n",
       "      <td>22</td>\n",
       "      <td>1995-01-03</td>\n",
       "    </tr>\n",
       "    <tr>\n",
       "      <th>1301309</th>\n",
       "      <td>South/Central America &amp; Carribean</td>\n",
       "      <td>Brazil</td>\n",
       "      <td>Sao Paulo</td>\n",
       "      <td>1</td>\n",
       "      <td>4</td>\n",
       "      <td>1995</td>\n",
       "      <td>22</td>\n",
       "      <td>1995-01-04</td>\n",
       "    </tr>\n",
       "    <tr>\n",
       "      <th>1301310</th>\n",
       "      <td>South/Central America &amp; Carribean</td>\n",
       "      <td>Brazil</td>\n",
       "      <td>Sao Paulo</td>\n",
       "      <td>1</td>\n",
       "      <td>5</td>\n",
       "      <td>1995</td>\n",
       "      <td>24</td>\n",
       "      <td>1995-01-05</td>\n",
       "    </tr>\n",
       "    <tr>\n",
       "      <th>...</th>\n",
       "      <td>...</td>\n",
       "      <td>...</td>\n",
       "      <td>...</td>\n",
       "      <td>...</td>\n",
       "      <td>...</td>\n",
       "      <td>...</td>\n",
       "      <td>...</td>\n",
       "      <td>...</td>\n",
       "    </tr>\n",
       "    <tr>\n",
       "      <th>1310567</th>\n",
       "      <td>South/Central America &amp; Carribean</td>\n",
       "      <td>Brazil</td>\n",
       "      <td>Sao Paulo</td>\n",
       "      <td>5</td>\n",
       "      <td>9</td>\n",
       "      <td>2020</td>\n",
       "      <td>16</td>\n",
       "      <td>2020-05-09</td>\n",
       "    </tr>\n",
       "    <tr>\n",
       "      <th>1310568</th>\n",
       "      <td>South/Central America &amp; Carribean</td>\n",
       "      <td>Brazil</td>\n",
       "      <td>Sao Paulo</td>\n",
       "      <td>5</td>\n",
       "      <td>10</td>\n",
       "      <td>2020</td>\n",
       "      <td>17</td>\n",
       "      <td>2020-05-10</td>\n",
       "    </tr>\n",
       "    <tr>\n",
       "      <th>1310569</th>\n",
       "      <td>South/Central America &amp; Carribean</td>\n",
       "      <td>Brazil</td>\n",
       "      <td>Sao Paulo</td>\n",
       "      <td>5</td>\n",
       "      <td>11</td>\n",
       "      <td>2020</td>\n",
       "      <td>18</td>\n",
       "      <td>2020-05-11</td>\n",
       "    </tr>\n",
       "    <tr>\n",
       "      <th>1310570</th>\n",
       "      <td>South/Central America &amp; Carribean</td>\n",
       "      <td>Brazil</td>\n",
       "      <td>Sao Paulo</td>\n",
       "      <td>5</td>\n",
       "      <td>12</td>\n",
       "      <td>2020</td>\n",
       "      <td>19</td>\n",
       "      <td>2020-05-12</td>\n",
       "    </tr>\n",
       "    <tr>\n",
       "      <th>1310571</th>\n",
       "      <td>South/Central America &amp; Carribean</td>\n",
       "      <td>Brazil</td>\n",
       "      <td>Sao Paulo</td>\n",
       "      <td>5</td>\n",
       "      <td>13</td>\n",
       "      <td>2020</td>\n",
       "      <td>17</td>\n",
       "      <td>2020-05-13</td>\n",
       "    </tr>\n",
       "  </tbody>\n",
       "</table>\n",
       "<p>9174 rows × 8 columns</p>\n",
       "</div>"
      ],
      "text/plain": [
       "                                    Region Country       City  Month  Day  \\\n",
       "1301306  South/Central America & Carribean  Brazil  Sao Paulo      1    1   \n",
       "1301307  South/Central America & Carribean  Brazil  Sao Paulo      1    2   \n",
       "1301308  South/Central America & Carribean  Brazil  Sao Paulo      1    3   \n",
       "1301309  South/Central America & Carribean  Brazil  Sao Paulo      1    4   \n",
       "1301310  South/Central America & Carribean  Brazil  Sao Paulo      1    5   \n",
       "...                                    ...     ...        ...    ...  ...   \n",
       "1310567  South/Central America & Carribean  Brazil  Sao Paulo      5    9   \n",
       "1310568  South/Central America & Carribean  Brazil  Sao Paulo      5   10   \n",
       "1310569  South/Central America & Carribean  Brazil  Sao Paulo      5   11   \n",
       "1310570  South/Central America & Carribean  Brazil  Sao Paulo      5   12   \n",
       "1310571  South/Central America & Carribean  Brazil  Sao Paulo      5   13   \n",
       "\n",
       "         Year  Celsius         ds  \n",
       "1301306  1995       22 1995-01-01  \n",
       "1301307  1995       23 1995-01-02  \n",
       "1301308  1995       22 1995-01-03  \n",
       "1301309  1995       22 1995-01-04  \n",
       "1301310  1995       24 1995-01-05  \n",
       "...       ...      ...        ...  \n",
       "1310567  2020       16 2020-05-09  \n",
       "1310568  2020       17 2020-05-10  \n",
       "1310569  2020       18 2020-05-11  \n",
       "1310570  2020       19 2020-05-12  \n",
       "1310571  2020       17 2020-05-13  \n",
       "\n",
       "[9174 rows x 8 columns]"
      ]
     },
     "execution_count": 70,
     "metadata": {},
     "output_type": "execute_result"
    }
   ],
   "source": [
    "sp"
   ]
  },
  {
   "cell_type": "markdown",
   "id": "7dae7108",
   "metadata": {},
   "source": [
    "### Exibindo valores: minima, maxima, media e mediana da cidade de São Paulo"
   ]
  },
  {
   "cell_type": "code",
   "execution_count": 71,
   "id": "28249dc5",
   "metadata": {},
   "outputs": [
    {
     "name": "stdout",
     "output_type": "stream",
     "text": [
      "           min  max       mean  median\n",
      "City                                  \n",
      "Sao Paulo    7   31  19.799215      20\n"
     ]
    }
   ],
   "source": [
    "print(sp.groupby('City').Celsius.agg(['min','max','mean','median']))"
   ]
  },
  {
   "cell_type": "markdown",
   "id": "958fd9d2",
   "metadata": {},
   "source": [
    "### Informação detalhada dos dados de São Paulo"
   ]
  },
  {
   "cell_type": "code",
   "execution_count": 72,
   "id": "7bc6cbe1",
   "metadata": {},
   "outputs": [
    {
     "name": "stdout",
     "output_type": "stream",
     "text": [
      "<class 'pandas.core.frame.DataFrame'>\n",
      "Int64Index: 9174 entries, 1301306 to 1310571\n",
      "Data columns (total 8 columns):\n",
      " #   Column   Non-Null Count  Dtype         \n",
      "---  ------   --------------  -----         \n",
      " 0   Region   9174 non-null   object        \n",
      " 1   Country  9174 non-null   object        \n",
      " 2   City     9174 non-null   object        \n",
      " 3   Month    9174 non-null   int64         \n",
      " 4   Day      9174 non-null   int64         \n",
      " 5   Year     9174 non-null   int64         \n",
      " 6   Celsius  9174 non-null   int64         \n",
      " 7   ds       9174 non-null   datetime64[ns]\n",
      "dtypes: datetime64[ns](1), int64(4), object(3)\n",
      "memory usage: 903.1+ KB\n"
     ]
    }
   ],
   "source": [
    "sp.info()"
   ]
  },
  {
   "cell_type": "markdown",
   "id": "dea25832",
   "metadata": {},
   "source": [
    "### Descrição dos dados de São Paulo"
   ]
  },
  {
   "cell_type": "code",
   "execution_count": 73,
   "id": "d5424c29",
   "metadata": {},
   "outputs": [
    {
     "data": {
      "text/html": [
       "<div>\n",
       "<style scoped>\n",
       "    .dataframe tbody tr th:only-of-type {\n",
       "        vertical-align: middle;\n",
       "    }\n",
       "\n",
       "    .dataframe tbody tr th {\n",
       "        vertical-align: top;\n",
       "    }\n",
       "\n",
       "    .dataframe thead th {\n",
       "        text-align: right;\n",
       "    }\n",
       "</style>\n",
       "<table border=\"1\" class=\"dataframe\">\n",
       "  <thead>\n",
       "    <tr style=\"text-align: right;\">\n",
       "      <th></th>\n",
       "      <th>Month</th>\n",
       "      <th>Day</th>\n",
       "      <th>Year</th>\n",
       "      <th>Celsius</th>\n",
       "    </tr>\n",
       "  </thead>\n",
       "  <tbody>\n",
       "    <tr>\n",
       "      <th>count</th>\n",
       "      <td>9174.000000</td>\n",
       "      <td>9174.000000</td>\n",
       "      <td>9174.000000</td>\n",
       "      <td>9174.000000</td>\n",
       "    </tr>\n",
       "    <tr>\n",
       "      <th>mean</th>\n",
       "      <td>6.450948</td>\n",
       "      <td>15.709505</td>\n",
       "      <td>2007.235448</td>\n",
       "      <td>19.799215</td>\n",
       "    </tr>\n",
       "    <tr>\n",
       "      <th>std</th>\n",
       "      <td>3.450502</td>\n",
       "      <td>8.801088</td>\n",
       "      <td>7.306137</td>\n",
       "      <td>3.495214</td>\n",
       "    </tr>\n",
       "    <tr>\n",
       "      <th>min</th>\n",
       "      <td>1.000000</td>\n",
       "      <td>1.000000</td>\n",
       "      <td>1995.000000</td>\n",
       "      <td>7.000000</td>\n",
       "    </tr>\n",
       "    <tr>\n",
       "      <th>25%</th>\n",
       "      <td>3.000000</td>\n",
       "      <td>8.000000</td>\n",
       "      <td>2001.000000</td>\n",
       "      <td>17.000000</td>\n",
       "    </tr>\n",
       "    <tr>\n",
       "      <th>50%</th>\n",
       "      <td>6.000000</td>\n",
       "      <td>16.000000</td>\n",
       "      <td>2007.000000</td>\n",
       "      <td>20.000000</td>\n",
       "    </tr>\n",
       "    <tr>\n",
       "      <th>75%</th>\n",
       "      <td>9.000000</td>\n",
       "      <td>23.000000</td>\n",
       "      <td>2014.000000</td>\n",
       "      <td>22.000000</td>\n",
       "    </tr>\n",
       "    <tr>\n",
       "      <th>max</th>\n",
       "      <td>12.000000</td>\n",
       "      <td>31.000000</td>\n",
       "      <td>2020.000000</td>\n",
       "      <td>31.000000</td>\n",
       "    </tr>\n",
       "  </tbody>\n",
       "</table>\n",
       "</div>"
      ],
      "text/plain": [
       "             Month          Day         Year      Celsius\n",
       "count  9174.000000  9174.000000  9174.000000  9174.000000\n",
       "mean      6.450948    15.709505  2007.235448    19.799215\n",
       "std       3.450502     8.801088     7.306137     3.495214\n",
       "min       1.000000     1.000000  1995.000000     7.000000\n",
       "25%       3.000000     8.000000  2001.000000    17.000000\n",
       "50%       6.000000    16.000000  2007.000000    20.000000\n",
       "75%       9.000000    23.000000  2014.000000    22.000000\n",
       "max      12.000000    31.000000  2020.000000    31.000000"
      ]
     },
     "execution_count": 73,
     "metadata": {},
     "output_type": "execute_result"
    }
   ],
   "source": [
    "sp.describe()"
   ]
  },
  {
   "cell_type": "markdown",
   "id": "f514b3a5",
   "metadata": {},
   "source": [
    "### Tamanho da base de dados de São Paulo"
   ]
  },
  {
   "cell_type": "code",
   "execution_count": 74,
   "id": "a62ee155",
   "metadata": {},
   "outputs": [
    {
     "data": {
      "text/plain": [
       "73392"
      ]
     },
     "execution_count": 74,
     "metadata": {},
     "output_type": "execute_result"
    }
   ],
   "source": [
    "sp.size"
   ]
  },
  {
   "cell_type": "markdown",
   "id": "923bb10b",
   "metadata": {},
   "source": [
    "### Quantidade de memória utilizada"
   ]
  },
  {
   "cell_type": "code",
   "execution_count": 75,
   "id": "1eac99c4",
   "metadata": {},
   "outputs": [
    {
     "data": {
      "text/plain": [
       "Index      337624\n",
       "Region      73392\n",
       "Country     73392\n",
       "City        73392\n",
       "Month       73392\n",
       "Day         73392\n",
       "Year        73392\n",
       "Celsius     73392\n",
       "ds          73392\n",
       "dtype: int64"
      ]
     },
     "execution_count": 75,
     "metadata": {},
     "output_type": "execute_result"
    }
   ],
   "source": [
    "sp.memory_usage()"
   ]
  },
  {
   "cell_type": "markdown",
   "id": "1e0786a4",
   "metadata": {},
   "source": [
    "## Fazendo a amostra do dado com uma série temporal"
   ]
  },
  {
   "cell_type": "code",
   "execution_count": 81,
   "id": "847d490d",
   "metadata": {},
   "outputs": [
    {
     "data": {
      "text/plain": [
       "Text(0, 0.5, 'Temperatura')"
      ]
     },
     "execution_count": 81,
     "metadata": {},
     "output_type": "execute_result"
    },
    {
     "data": {
      "image/png": "[encoded data removed]",
      "text/plain": [
       "<Figure size 864x360 with 1 Axes>"
      ]
     },
     "metadata": {},
     "output_type": "display_data"
    }
   ],
   "source": [
    "plt.figure( figsize = ( 12, 5)) \n",
    "sns.lineplot( x = 'ds', \n",
    "             y = 'Celsius', \n",
    "             data = sp, \n",
    "             label = 'temperatura móvel')\n",
    "\n",
    "plt.ylabel('Temperatura') \n",
    "#sns.relplot(data = sp, x = 'ds', y = 'Celsius', label = 'São Paulo',kind=\"line\",height=5, aspect=2.5 )"
   ]
  },
  {
   "cell_type": "markdown",
   "id": "d2086f2f",
   "metadata": {},
   "source": [
    "## Colocando os dados processados dentro de um novo csv"
   ]
  },
  {
   "cell_type": "code",
   "execution_count": 78,
   "id": "d043bceb",
   "metadata": {},
   "outputs": [],
   "source": [
    "sp\n",
    "sp.to_csv('SP.csv', encoding='utf-8')"
   ]
  }
 ],
 "metadata": {
  "kernelspec": {
   "display_name": "Python 3",
   "language": "python",
   "name": "python3"
  },
  "language_info": {
   "codemirror_mode": {
    "name": "ipython",
    "version": 3
   },
   "file_extension": ".py",
   "mimetype": "text/x-python",
   "name": "python",
   "nbconvert_exporter": "python",
   "pygments_lexer": "ipython3",
   "version": "3.8.8"
  }
 },
 "nbformat": 4,
 "nbformat_minor": 5
}
