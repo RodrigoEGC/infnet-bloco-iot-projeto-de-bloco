{
 "cells": [
  {
   "cell_type": "markdown",
   "id": "1267f337",
   "metadata": {},
   "source": [
    "# Analise de dados da cidade de São Paulo"
   ]
  },
  {
   "cell_type": "markdown",
   "id": "70432ff9",
   "metadata": {},
   "source": [
    "## Importação e amostra da base de dados cru sem qualquer alteração"
   ]
  },
  {
   "cell_type": "code",
   "execution_count": 9,
   "id": "2e867149",
   "metadata": {},
   "outputs": [
    {
     "data": {
      "text/html": [
       "<div>\n",
       "<style scoped>\n",
       "    .dataframe tbody tr th:only-of-type {\n",
       "        vertical-align: middle;\n",
       "    }\n",
       "\n",
       "    .dataframe tbody tr th {\n",
       "        vertical-align: top;\n",
       "    }\n",
       "\n",
       "    .dataframe thead th {\n",
       "        text-align: right;\n",
       "    }\n",
       "</style>\n",
       "<table border=\"1\" class=\"dataframe\">\n",
       "  <thead>\n",
       "    <tr style=\"text-align: right;\">\n",
       "      <th></th>\n",
       "      <th>Region</th>\n",
       "      <th>Country</th>\n",
       "      <th>State</th>\n",
       "      <th>City</th>\n",
       "      <th>Month</th>\n",
       "      <th>Day</th>\n",
       "      <th>Year</th>\n",
       "      <th>AvgTemperature</th>\n",
       "    </tr>\n",
       "  </thead>\n",
       "  <tbody>\n",
       "    <tr>\n",
       "      <th>0</th>\n",
       "      <td>Africa</td>\n",
       "      <td>Algeria</td>\n",
       "      <td>NaN</td>\n",
       "      <td>Algiers</td>\n",
       "      <td>1</td>\n",
       "      <td>1</td>\n",
       "      <td>1995</td>\n",
       "      <td>64.2</td>\n",
       "    </tr>\n",
       "    <tr>\n",
       "      <th>1</th>\n",
       "      <td>Africa</td>\n",
       "      <td>Algeria</td>\n",
       "      <td>NaN</td>\n",
       "      <td>Algiers</td>\n",
       "      <td>1</td>\n",
       "      <td>2</td>\n",
       "      <td>1995</td>\n",
       "      <td>49.4</td>\n",
       "    </tr>\n",
       "    <tr>\n",
       "      <th>2</th>\n",
       "      <td>Africa</td>\n",
       "      <td>Algeria</td>\n",
       "      <td>NaN</td>\n",
       "      <td>Algiers</td>\n",
       "      <td>1</td>\n",
       "      <td>3</td>\n",
       "      <td>1995</td>\n",
       "      <td>48.8</td>\n",
       "    </tr>\n",
       "    <tr>\n",
       "      <th>3</th>\n",
       "      <td>Africa</td>\n",
       "      <td>Algeria</td>\n",
       "      <td>NaN</td>\n",
       "      <td>Algiers</td>\n",
       "      <td>1</td>\n",
       "      <td>4</td>\n",
       "      <td>1995</td>\n",
       "      <td>46.4</td>\n",
       "    </tr>\n",
       "    <tr>\n",
       "      <th>4</th>\n",
       "      <td>Africa</td>\n",
       "      <td>Algeria</td>\n",
       "      <td>NaN</td>\n",
       "      <td>Algiers</td>\n",
       "      <td>1</td>\n",
       "      <td>5</td>\n",
       "      <td>1995</td>\n",
       "      <td>47.9</td>\n",
       "    </tr>\n",
       "    <tr>\n",
       "      <th>...</th>\n",
       "      <td>...</td>\n",
       "      <td>...</td>\n",
       "      <td>...</td>\n",
       "      <td>...</td>\n",
       "      <td>...</td>\n",
       "      <td>...</td>\n",
       "      <td>...</td>\n",
       "      <td>...</td>\n",
       "    </tr>\n",
       "    <tr>\n",
       "      <th>2906322</th>\n",
       "      <td>North America</td>\n",
       "      <td>US</td>\n",
       "      <td>Additional Territories</td>\n",
       "      <td>San Juan Puerto Rico</td>\n",
       "      <td>7</td>\n",
       "      <td>27</td>\n",
       "      <td>2013</td>\n",
       "      <td>82.4</td>\n",
       "    </tr>\n",
       "    <tr>\n",
       "      <th>2906323</th>\n",
       "      <td>North America</td>\n",
       "      <td>US</td>\n",
       "      <td>Additional Territories</td>\n",
       "      <td>San Juan Puerto Rico</td>\n",
       "      <td>7</td>\n",
       "      <td>28</td>\n",
       "      <td>2013</td>\n",
       "      <td>81.6</td>\n",
       "    </tr>\n",
       "    <tr>\n",
       "      <th>2906324</th>\n",
       "      <td>North America</td>\n",
       "      <td>US</td>\n",
       "      <td>Additional Territories</td>\n",
       "      <td>San Juan Puerto Rico</td>\n",
       "      <td>7</td>\n",
       "      <td>29</td>\n",
       "      <td>2013</td>\n",
       "      <td>84.2</td>\n",
       "    </tr>\n",
       "    <tr>\n",
       "      <th>2906325</th>\n",
       "      <td>North America</td>\n",
       "      <td>US</td>\n",
       "      <td>Additional Territories</td>\n",
       "      <td>San Juan Puerto Rico</td>\n",
       "      <td>7</td>\n",
       "      <td>30</td>\n",
       "      <td>2013</td>\n",
       "      <td>83.8</td>\n",
       "    </tr>\n",
       "    <tr>\n",
       "      <th>2906326</th>\n",
       "      <td>North America</td>\n",
       "      <td>US</td>\n",
       "      <td>Additional Territories</td>\n",
       "      <td>San Juan Puerto Rico</td>\n",
       "      <td>7</td>\n",
       "      <td>31</td>\n",
       "      <td>2013</td>\n",
       "      <td>83.6</td>\n",
       "    </tr>\n",
       "  </tbody>\n",
       "</table>\n",
       "<p>2906327 rows × 8 columns</p>\n",
       "</div>"
      ],
      "text/plain": [
       "                Region  Country                   State                  City  \\\n",
       "0               Africa  Algeria                     NaN               Algiers   \n",
       "1               Africa  Algeria                     NaN               Algiers   \n",
       "2               Africa  Algeria                     NaN               Algiers   \n",
       "3               Africa  Algeria                     NaN               Algiers   \n",
       "4               Africa  Algeria                     NaN               Algiers   \n",
       "...                ...      ...                     ...                   ...   \n",
       "2906322  North America       US  Additional Territories  San Juan Puerto Rico   \n",
       "2906323  North America       US  Additional Territories  San Juan Puerto Rico   \n",
       "2906324  North America       US  Additional Territories  San Juan Puerto Rico   \n",
       "2906325  North America       US  Additional Territories  San Juan Puerto Rico   \n",
       "2906326  North America       US  Additional Territories  San Juan Puerto Rico   \n",
       "\n",
       "         Month  Day  Year  AvgTemperature  \n",
       "0            1    1  1995            64.2  \n",
       "1            1    2  1995            49.4  \n",
       "2            1    3  1995            48.8  \n",
       "3            1    4  1995            46.4  \n",
       "4            1    5  1995            47.9  \n",
       "...        ...  ...   ...             ...  \n",
       "2906322      7   27  2013            82.4  \n",
       "2906323      7   28  2013            81.6  \n",
       "2906324      7   29  2013            84.2  \n",
       "2906325      7   30  2013            83.8  \n",
       "2906326      7   31  2013            83.6  \n",
       "\n",
       "[2906327 rows x 8 columns]"
      ]
     },
     "execution_count": 9,
     "metadata": {},
     "output_type": "execute_result"
    }
   ],
   "source": [
    "import numpy as np\n",
    "import pandas as pd\n",
    "import seaborn as sns\n",
    "import matplotlib.pyplot as plt\n",
    "from datetime import datetime\n",
    "\n",
    "data = pd.read_csv('city_temperature.csv', low_memory=False)\n",
    "data"
   ]
  },
  {
   "cell_type": "markdown",
   "id": "9ae6f59e",
   "metadata": {},
   "source": [
    "## Selecionando qual será a cidade escolhida para a analise de dados e deleção de dados nulos"
   ]
  },
  {
   "cell_type": "code",
   "execution_count": 5,
   "id": "57e04233",
   "metadata": {},
   "outputs": [],
   "source": [
    "Brasil = data[(data['Country'] == 'Brazil')]\n",
    "SP = Brasil[(Brasil['City'] == 'Sao Paulo')]\n",
    "SP = SP.dropna(axis=\"columns\", how=\"any\")"
   ]
  },
  {
   "cell_type": "markdown",
   "id": "9a87c418",
   "metadata": {},
   "source": [
    "## Fazendo a conversão de fahrenheit para celsius dentro de uma nova coluna e deletando a de fahrenheit"
   ]
  },
  {
   "cell_type": "code",
   "execution_count": 6,
   "id": "475fa648",
   "metadata": {},
   "outputs": [],
   "source": [
    "def f(temp):\n",
    "    temp = (temp - 32) * 5/9\n",
    "    return float(temp)\n",
    "\n",
    "SP['Celsius'] = SP['AvgTemperature'].apply(f)\n",
    "SP = SP.drop(columns=['AvgTemperature'])"
   ]
  },
  {
   "cell_type": "markdown",
   "id": "1e0786a4",
   "metadata": {},
   "source": [
    "## Fazendo a amostra do dado com uma série temporal"
   ]
  },
  {
   "cell_type": "code",
   "execution_count": 7,
   "id": "847d490d",
   "metadata": {},
   "outputs": [
    {
     "data": {
      "text/plain": [
       "<seaborn.axisgrid.FacetGrid at 0x18e9b7f1af0>"
      ]
     },
     "execution_count": 7,
     "metadata": {},
     "output_type": "execute_result"
    },
    {
     "data": {
      "image/png": "[encoded data removed]",
      "text/plain": [
       "<Figure size 900x360 with 1 Axes>"
      ]
     },
     "metadata": {
      "needs_background": "light"
     },
     "output_type": "display_data"
    }
   ],
   "source": [
    "sns.relplot(data = SP, x = 'Year', y = 'Celsius', label = 'São Paulo',kind=\"line\",height=5, aspect=2.5 )\n",
    "\n"
   ]
  },
  {
   "cell_type": "markdown",
   "id": "35b637fb",
   "metadata": {},
   "source": [
    "## mostrando se há dados outliers"
   ]
  },
  {
   "cell_type": "code",
   "execution_count": 8,
   "id": "d5e23140",
   "metadata": {},
   "outputs": [
    {
     "data": {
      "image/png": "[encoded data removed]",
      "text/plain": [
       "<Figure size 720x576 with 1 Axes>"
      ]
     },
     "metadata": {
      "needs_background": "light"
     },
     "output_type": "display_data"
    }
   ],
   "source": [
    "fig, ax = plt.subplots(figsize = (10,8))\n",
    "ax.scatter(SP['Year'], SP['Celsius'])\n",
    "ax.set_xlabel('Data')\n",
    "ax.set_ylabel('Temperatura média')\n",
    "plt.show()"
   ]
  },
  {
   "cell_type": "markdown",
   "id": "d2086f2f",
   "metadata": {},
   "source": [
    "## Colocando os dados processados dentro de um novo csv"
   ]
  },
  {
   "cell_type": "code",
   "execution_count": null,
   "id": "d043bceb",
   "metadata": {},
   "outputs": [],
   "source": [
    "SP\n",
    "SP.to_csv('SP.csv', encoding='utf-8')"
   ]
  }
 ],
 "metadata": {
  "kernelspec": {
   "display_name": "Python 3",
   "language": "python",
   "name": "python3"
  },
  "language_info": {
   "codemirror_mode": {
    "name": "ipython",
    "version": 3
   },
   "file_extension": ".py",
   "mimetype": "text/x-python",
   "name": "python",
   "nbconvert_exporter": "python",
   "pygments_lexer": "ipython3",
   "version": "3.8.8"
  }
 },
 "nbformat": 4,
 "nbformat_minor": 5
}
