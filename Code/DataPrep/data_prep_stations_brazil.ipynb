{
  "nbformat": 4,
  "nbformat_minor": 0,
  "metadata": {
    "colab": {
      "name": "data_prep_stations_brazil.ipynb",
      "provenance": []
    },
    "kernelspec": {
      "name": "python3",
      "display_name": "Python 3"
    },
    "language_info": {
      "name": "python"
    }
  },
  "cells": [
    {
      "cell_type": "code",
      "execution_count": null,
      "metadata": {
        "id": "2DAg75GwmmR8"
      },
      "outputs": [],
      "source": [
        "import numpy as np\n",
        "import pandas as pd\n",
        "import seaborn as sns\n",
        "import matplotlib.pyplot as plt\n",
        "import plotly.express as px\n",
        "from datetime import datetime\n",
        "import matplotlib.pyplot as plt\n",
        "from google.colab import drive\n",
        "import dask.dataframe as dd\n",
        "import hvplot.pandas\n",
        "import hvplot.dask\n",
        "plt.style.use('fivethirtyeight')\n"
      ]
    },
    {
      "cell_type": "markdown",
      "source": [
        "◼ Montar drive"
      ],
      "metadata": {
        "id": "-rYwO2DzrSbN"
      }
    },
    {
      "cell_type": "code",
      "source": [
        "drive.mount('/content/drive')"
      ],
      "metadata": {
        "colab": {
          "base_uri": "https://localhost:8080/"
        },
        "id": "3Pw_nCIzmnH-",
        "outputId": "752c2f8a-53eb-4045-f3d4-2b51a9ee43a9"
      },
      "execution_count": null,
      "outputs": [
        {
          "output_type": "stream",
          "name": "stdout",
          "text": [
            "Mounted at /content/drive\n"
          ]
        }
      ]
    },
    {
      "cell_type": "markdown",
      "source": [
        "◼ Definir separador e ler arquivo com Dask."
      ],
      "metadata": {
        "id": "bmxuaSKurVfS"
      }
    },
    {
      "cell_type": "code",
      "source": [
        "df_weather = dd.read_csv('/content/drive/My Drive/IoT/Projeto_de_Bloco_IoT/weather_stations_inmet_brazil.csv', sep = ';', encoding=\"utf-8\")\n",
        "df_station = pd.read_csv('/content/drive/My Drive/IoT/Projeto_de_Bloco_IoT/automatic_stations_codes_2000_2021.csv', sep = ';', encoding=\"utf-8\")"
      ],
      "metadata": {
        "id": "uF9cTXbfm05r"
      },
      "execution_count": null,
      "outputs": []
    },
    {
      "cell_type": "markdown",
      "source": [
        "◼ Visualizar as 10 primeiras linhas"
      ],
      "metadata": {
        "id": "22hqc9e8rejX"
      }
    },
    {
      "cell_type": "code",
      "source": [
        "df_weather.head(10)"
      ],
      "metadata": {
        "id": "shsF5BYYpwVs",
        "colab": {
          "base_uri": "https://localhost:8080/",
          "height": 685
        },
        "outputId": "6cdf8478-d504-4be1-f8d0-628edeec5cfc"
      },
      "execution_count": null,
      "outputs": [
        {
          "output_type": "execute_result",
          "data": {
            "text/plain": [
              "  ESTACAO DATA (YYYY-MM-DD)  HORA (UTC)  PRECIPITACAO TOTAL HORARIO (mm)  \\\n",
              "0    A001        2021-01-01           0                              0.0   \n",
              "1    A001        2021-01-01         100                              0.0   \n",
              "2    A001        2021-01-01         200                              0.0   \n",
              "3    A001        2021-01-01         300                              0.0   \n",
              "4    A001        2021-01-01         400                              0.0   \n",
              "5    A001        2021-01-01         500                              0.0   \n",
              "6    A001        2021-01-01         600                              0.0   \n",
              "7    A001        2021-01-01         700                              0.0   \n",
              "8    A001        2021-01-01         800                              0.0   \n",
              "9    A001        2021-01-01         900                              0.0   \n",
              "\n",
              "   PRESSAO ATMOSFERICA AO NIVEL DA ESTACAO, HORARIA (mB)  \\\n",
              "0                                              887.1       \n",
              "1                                              887.3       \n",
              "2                                              887.9       \n",
              "3                                              887.6       \n",
              "4                                              887.0       \n",
              "5                                              887.1       \n",
              "6                                              886.5       \n",
              "7                                              886.5       \n",
              "8                                              886.8       \n",
              "9                                              887.3       \n",
              "\n",
              "   PRESSAO ATMOSFERICA MAX.NA HORA ANT. (AUT) (mB)  \\\n",
              "0                                            887.1   \n",
              "1                                            887.5   \n",
              "2                                            888.0   \n",
              "3                                            888.0   \n",
              "4                                            887.6   \n",
              "5                                            887.2   \n",
              "6                                            887.1   \n",
              "7                                            886.5   \n",
              "8                                            886.8   \n",
              "9                                            887.3   \n",
              "\n",
              "   PRESSAO ATMOSFERICA MIN. NA HORA ANT. (AUT) (mB)  RADIACAO GLOBAL (W/m2)  \\\n",
              "0                                             886.3                     NaN   \n",
              "1                                             887.1                     NaN   \n",
              "2                                             887.2                     NaN   \n",
              "3                                             887.6                     NaN   \n",
              "4                                             887.0                     NaN   \n",
              "5                                             887.0                     NaN   \n",
              "6                                             886.4                     NaN   \n",
              "7                                             886.3                     NaN   \n",
              "8                                             886.4                     NaN   \n",
              "9                                             886.8                     NaN   \n",
              "\n",
              "   TEMPERATURA DO AR - BULBO SECO, HORARIA (C)  \\\n",
              "0                                         20.9   \n",
              "1                                         20.5   \n",
              "2                                         19.6   \n",
              "3                                         19.4   \n",
              "4                                         18.7   \n",
              "5                                         21.0   \n",
              "6                                         19.4   \n",
              "7                                         18.5   \n",
              "8                                         18.9   \n",
              "9                                         18.3   \n",
              "\n",
              "   TEMPERATURA DO PONTO DE ORVALHO (C)  \\\n",
              "0                                 15.9   \n",
              "1                                 16.4   \n",
              "2                                 16.1   \n",
              "3                                 16.7   \n",
              "4                                 16.3   \n",
              "5                                 16.0   \n",
              "6                                 16.2   \n",
              "7                                 16.3   \n",
              "8                                 16.4   \n",
              "9                                 16.2   \n",
              "\n",
              "   TEMPERATURA MAXIMA NA HORA ANT. (AUT) (C)  \\\n",
              "0                                       22.4   \n",
              "1                                       21.1   \n",
              "2                                       21.4   \n",
              "3                                       20.1   \n",
              "4                                       19.4   \n",
              "5                                       21.0   \n",
              "6                                       21.1   \n",
              "7                                       19.4   \n",
              "8                                       19.0   \n",
              "9                                       19.7   \n",
              "\n",
              "   TEMPERATURA MINIMA NA HORA ANT. (AUT) (C)  \\\n",
              "0                                       20.8   \n",
              "1                                       19.5   \n",
              "2                                       19.6   \n",
              "3                                       19.3   \n",
              "4                                       18.6   \n",
              "5                                       18.5   \n",
              "6                                       19.4   \n",
              "7                                       18.3   \n",
              "8                                       17.9   \n",
              "9                                       18.3   \n",
              "\n",
              "   TEMPERATURA ORVALHO MAX. NA HORA ANT. (AUT) (C)  \\\n",
              "0                                             16.5   \n",
              "1                                             16.9   \n",
              "2                                             16.5   \n",
              "3                                             17.0   \n",
              "4                                             16.8   \n",
              "5                                             16.5   \n",
              "6                                             16.3   \n",
              "7                                             16.4   \n",
              "8                                             16.7   \n",
              "9                                             16.6   \n",
              "\n",
              "   TEMPERATURA ORVALHO MIN. NA HORA ANT. (AUT) (C)  \\\n",
              "0                                             15.4   \n",
              "1                                             16.0   \n",
              "2                                             15.9   \n",
              "3                                             16.1   \n",
              "4                                             16.0   \n",
              "5                                             16.0   \n",
              "6                                             15.9   \n",
              "7                                             16.0   \n",
              "8                                             16.0   \n",
              "9                                             16.0   \n",
              "\n",
              "   UMIDADE REL. MAX. NA HORA ANT. (AUT) (%)  \\\n",
              "0                                      75.0   \n",
              "1                                      83.0   \n",
              "2                                      80.0   \n",
              "3                                      86.0   \n",
              "4                                      86.0   \n",
              "5                                      87.0   \n",
              "6                                      81.0   \n",
              "7                                      88.0   \n",
              "8                                      90.0   \n",
              "9                                      87.0   \n",
              "\n",
              "   UMIDADE REL. MIN. NA HORA ANT. (AUT) (%)  \\\n",
              "0                                      67.0   \n",
              "1                                      73.0   \n",
              "2                                      73.0   \n",
              "3                                      78.0   \n",
              "4                                      83.0   \n",
              "5                                      73.0   \n",
              "6                                      72.0   \n",
              "7                                      81.0   \n",
              "8                                      85.0   \n",
              "9                                      81.0   \n",
              "\n",
              "   UMIDADE RELATIVA DO AR, HORARIA (%)  VENTO, DIRECAO HORARIA (gr)  \\\n",
              "0                                 73.0                        327.0   \n",
              "1                                 78.0                        134.0   \n",
              "2                                 80.0                        309.0   \n",
              "3                                 84.0                        315.0   \n",
              "4                                 86.0                        270.0   \n",
              "5                                 73.0                        238.0   \n",
              "6                                 81.0                        219.0   \n",
              "7                                 87.0                        355.0   \n",
              "8                                 85.0                         74.0   \n",
              "9                                 87.0                        119.0   \n",
              "\n",
              "   VENTO, RAJADA MAXIMA (m/s)  VENTO, VELOCIDADE HORARIA (m/s)  \n",
              "0                         3.6                              0.8  \n",
              "1                         2.3                              1.5  \n",
              "2                         2.5                              1.1  \n",
              "3                         2.3                              0.6  \n",
              "4                         1.4                              0.7  \n",
              "5                         4.6                              2.3  \n",
              "6                         6.0                              0.9  \n",
              "7                         2.6                              1.3  \n",
              "8                         2.7                              0.5  \n",
              "9                         2.0                              0.6  "
            ],
            "text/html": [
              "\n",
              "  <div id=\"df-7f89f04b-01fa-45a3-8c06-70f9a6c1a0fe\">\n",
              "    <div class=\"colab-df-container\">\n",
              "      <div>\n",
              "<style scoped>\n",
              "    .dataframe tbody tr th:only-of-type {\n",
              "        vertical-align: middle;\n",
              "    }\n",
              "\n",
              "    .dataframe tbody tr th {\n",
              "        vertical-align: top;\n",
              "    }\n",
              "\n",
              "    .dataframe thead th {\n",
              "        text-align: right;\n",
              "    }\n",
              "</style>\n",
              "<table border=\"1\" class=\"dataframe\">\n",
              "  <thead>\n",
              "    <tr style=\"text-align: right;\">\n",
              "      <th></th>\n",
              "      <th>ESTACAO</th>\n",
              "      <th>DATA (YYYY-MM-DD)</th>\n",
              "      <th>HORA (UTC)</th>\n",
              "      <th>PRECIPITACAO TOTAL HORARIO (mm)</th>\n",
              "      <th>PRESSAO ATMOSFERICA AO NIVEL DA ESTACAO, HORARIA (mB)</th>\n",
              "      <th>PRESSAO ATMOSFERICA MAX.NA HORA ANT. (AUT) (mB)</th>\n",
              "      <th>PRESSAO ATMOSFERICA MIN. NA HORA ANT. (AUT) (mB)</th>\n",
              "      <th>RADIACAO GLOBAL (W/m2)</th>\n",
              "      <th>TEMPERATURA DO AR - BULBO SECO, HORARIA (C)</th>\n",
              "      <th>TEMPERATURA DO PONTO DE ORVALHO (C)</th>\n",
              "      <th>TEMPERATURA MAXIMA NA HORA ANT. (AUT) (C)</th>\n",
              "      <th>TEMPERATURA MINIMA NA HORA ANT. (AUT) (C)</th>\n",
              "      <th>TEMPERATURA ORVALHO MAX. NA HORA ANT. (AUT) (C)</th>\n",
              "      <th>TEMPERATURA ORVALHO MIN. NA HORA ANT. (AUT) (C)</th>\n",
              "      <th>UMIDADE REL. MAX. NA HORA ANT. (AUT) (%)</th>\n",
              "      <th>UMIDADE REL. MIN. NA HORA ANT. (AUT) (%)</th>\n",
              "      <th>UMIDADE RELATIVA DO AR, HORARIA (%)</th>\n",
              "      <th>VENTO, DIRECAO HORARIA (gr)</th>\n",
              "      <th>VENTO, RAJADA MAXIMA (m/s)</th>\n",
              "      <th>VENTO, VELOCIDADE HORARIA (m/s)</th>\n",
              "    </tr>\n",
              "  </thead>\n",
              "  <tbody>\n",
              "    <tr>\n",
              "      <th>0</th>\n",
              "      <td>A001</td>\n",
              "      <td>2021-01-01</td>\n",
              "      <td>0</td>\n",
              "      <td>0.0</td>\n",
              "      <td>887.1</td>\n",
              "      <td>887.1</td>\n",
              "      <td>886.3</td>\n",
              "      <td>NaN</td>\n",
              "      <td>20.9</td>\n",
              "      <td>15.9</td>\n",
              "      <td>22.4</td>\n",
              "      <td>20.8</td>\n",
              "      <td>16.5</td>\n",
              "      <td>15.4</td>\n",
              "      <td>75.0</td>\n",
              "      <td>67.0</td>\n",
              "      <td>73.0</td>\n",
              "      <td>327.0</td>\n",
              "      <td>3.6</td>\n",
              "      <td>0.8</td>\n",
              "    </tr>\n",
              "    <tr>\n",
              "      <th>1</th>\n",
              "      <td>A001</td>\n",
              "      <td>2021-01-01</td>\n",
              "      <td>100</td>\n",
              "      <td>0.0</td>\n",
              "      <td>887.3</td>\n",
              "      <td>887.5</td>\n",
              "      <td>887.1</td>\n",
              "      <td>NaN</td>\n",
              "      <td>20.5</td>\n",
              "      <td>16.4</td>\n",
              "      <td>21.1</td>\n",
              "      <td>19.5</td>\n",
              "      <td>16.9</td>\n",
              "      <td>16.0</td>\n",
              "      <td>83.0</td>\n",
              "      <td>73.0</td>\n",
              "      <td>78.0</td>\n",
              "      <td>134.0</td>\n",
              "      <td>2.3</td>\n",
              "      <td>1.5</td>\n",
              "    </tr>\n",
              "    <tr>\n",
              "      <th>2</th>\n",
              "      <td>A001</td>\n",
              "      <td>2021-01-01</td>\n",
              "      <td>200</td>\n",
              "      <td>0.0</td>\n",
              "      <td>887.9</td>\n",
              "      <td>888.0</td>\n",
              "      <td>887.2</td>\n",
              "      <td>NaN</td>\n",
              "      <td>19.6</td>\n",
              "      <td>16.1</td>\n",
              "      <td>21.4</td>\n",
              "      <td>19.6</td>\n",
              "      <td>16.5</td>\n",
              "      <td>15.9</td>\n",
              "      <td>80.0</td>\n",
              "      <td>73.0</td>\n",
              "      <td>80.0</td>\n",
              "      <td>309.0</td>\n",
              "      <td>2.5</td>\n",
              "      <td>1.1</td>\n",
              "    </tr>\n",
              "    <tr>\n",
              "      <th>3</th>\n",
              "      <td>A001</td>\n",
              "      <td>2021-01-01</td>\n",
              "      <td>300</td>\n",
              "      <td>0.0</td>\n",
              "      <td>887.6</td>\n",
              "      <td>888.0</td>\n",
              "      <td>887.6</td>\n",
              "      <td>NaN</td>\n",
              "      <td>19.4</td>\n",
              "      <td>16.7</td>\n",
              "      <td>20.1</td>\n",
              "      <td>19.3</td>\n",
              "      <td>17.0</td>\n",
              "      <td>16.1</td>\n",
              "      <td>86.0</td>\n",
              "      <td>78.0</td>\n",
              "      <td>84.0</td>\n",
              "      <td>315.0</td>\n",
              "      <td>2.3</td>\n",
              "      <td>0.6</td>\n",
              "    </tr>\n",
              "    <tr>\n",
              "      <th>4</th>\n",
              "      <td>A001</td>\n",
              "      <td>2021-01-01</td>\n",
              "      <td>400</td>\n",
              "      <td>0.0</td>\n",
              "      <td>887.0</td>\n",
              "      <td>887.6</td>\n",
              "      <td>887.0</td>\n",
              "      <td>NaN</td>\n",
              "      <td>18.7</td>\n",
              "      <td>16.3</td>\n",
              "      <td>19.4</td>\n",
              "      <td>18.6</td>\n",
              "      <td>16.8</td>\n",
              "      <td>16.0</td>\n",
              "      <td>86.0</td>\n",
              "      <td>83.0</td>\n",
              "      <td>86.0</td>\n",
              "      <td>270.0</td>\n",
              "      <td>1.4</td>\n",
              "      <td>0.7</td>\n",
              "    </tr>\n",
              "    <tr>\n",
              "      <th>5</th>\n",
              "      <td>A001</td>\n",
              "      <td>2021-01-01</td>\n",
              "      <td>500</td>\n",
              "      <td>0.0</td>\n",
              "      <td>887.1</td>\n",
              "      <td>887.2</td>\n",
              "      <td>887.0</td>\n",
              "      <td>NaN</td>\n",
              "      <td>21.0</td>\n",
              "      <td>16.0</td>\n",
              "      <td>21.0</td>\n",
              "      <td>18.5</td>\n",
              "      <td>16.5</td>\n",
              "      <td>16.0</td>\n",
              "      <td>87.0</td>\n",
              "      <td>73.0</td>\n",
              "      <td>73.0</td>\n",
              "      <td>238.0</td>\n",
              "      <td>4.6</td>\n",
              "      <td>2.3</td>\n",
              "    </tr>\n",
              "    <tr>\n",
              "      <th>6</th>\n",
              "      <td>A001</td>\n",
              "      <td>2021-01-01</td>\n",
              "      <td>600</td>\n",
              "      <td>0.0</td>\n",
              "      <td>886.5</td>\n",
              "      <td>887.1</td>\n",
              "      <td>886.4</td>\n",
              "      <td>NaN</td>\n",
              "      <td>19.4</td>\n",
              "      <td>16.2</td>\n",
              "      <td>21.1</td>\n",
              "      <td>19.4</td>\n",
              "      <td>16.3</td>\n",
              "      <td>15.9</td>\n",
              "      <td>81.0</td>\n",
              "      <td>72.0</td>\n",
              "      <td>81.0</td>\n",
              "      <td>219.0</td>\n",
              "      <td>6.0</td>\n",
              "      <td>0.9</td>\n",
              "    </tr>\n",
              "    <tr>\n",
              "      <th>7</th>\n",
              "      <td>A001</td>\n",
              "      <td>2021-01-01</td>\n",
              "      <td>700</td>\n",
              "      <td>0.0</td>\n",
              "      <td>886.5</td>\n",
              "      <td>886.5</td>\n",
              "      <td>886.3</td>\n",
              "      <td>NaN</td>\n",
              "      <td>18.5</td>\n",
              "      <td>16.3</td>\n",
              "      <td>19.4</td>\n",
              "      <td>18.3</td>\n",
              "      <td>16.4</td>\n",
              "      <td>16.0</td>\n",
              "      <td>88.0</td>\n",
              "      <td>81.0</td>\n",
              "      <td>87.0</td>\n",
              "      <td>355.0</td>\n",
              "      <td>2.6</td>\n",
              "      <td>1.3</td>\n",
              "    </tr>\n",
              "    <tr>\n",
              "      <th>8</th>\n",
              "      <td>A001</td>\n",
              "      <td>2021-01-01</td>\n",
              "      <td>800</td>\n",
              "      <td>0.0</td>\n",
              "      <td>886.8</td>\n",
              "      <td>886.8</td>\n",
              "      <td>886.4</td>\n",
              "      <td>NaN</td>\n",
              "      <td>18.9</td>\n",
              "      <td>16.4</td>\n",
              "      <td>19.0</td>\n",
              "      <td>17.9</td>\n",
              "      <td>16.7</td>\n",
              "      <td>16.0</td>\n",
              "      <td>90.0</td>\n",
              "      <td>85.0</td>\n",
              "      <td>85.0</td>\n",
              "      <td>74.0</td>\n",
              "      <td>2.7</td>\n",
              "      <td>0.5</td>\n",
              "    </tr>\n",
              "    <tr>\n",
              "      <th>9</th>\n",
              "      <td>A001</td>\n",
              "      <td>2021-01-01</td>\n",
              "      <td>900</td>\n",
              "      <td>0.0</td>\n",
              "      <td>887.3</td>\n",
              "      <td>887.3</td>\n",
              "      <td>886.8</td>\n",
              "      <td>NaN</td>\n",
              "      <td>18.3</td>\n",
              "      <td>16.2</td>\n",
              "      <td>19.7</td>\n",
              "      <td>18.3</td>\n",
              "      <td>16.6</td>\n",
              "      <td>16.0</td>\n",
              "      <td>87.0</td>\n",
              "      <td>81.0</td>\n",
              "      <td>87.0</td>\n",
              "      <td>119.0</td>\n",
              "      <td>2.0</td>\n",
              "      <td>0.6</td>\n",
              "    </tr>\n",
              "  </tbody>\n",
              "</table>\n",
              "</div>\n",
              "      <button class=\"colab-df-convert\" onclick=\"convertToInteractive('df-7f89f04b-01fa-45a3-8c06-70f9a6c1a0fe')\"\n",
              "              title=\"Convert this dataframe to an interactive table.\"\n",
              "              style=\"display:none;\">\n",
              "        \n",
              "  <svg xmlns=\"http://www.w3.org/2000/svg\" height=\"24px\"viewBox=\"0 0 24 24\"\n",
              "       width=\"24px\">\n",
              "    <path d=\"M0 0h24v24H0V0z\" fill=\"none\"/>\n",
              "    <path d=\"M18.56 5.44l.94 2.06.94-2.06 2.06-.94-2.06-.94-.94-2.06-.94 2.06-2.06.94zm-11 1L8.5 8.5l.94-2.06 2.06-.94-2.06-.94L8.5 2.5l-.94 2.06-2.06.94zm10 10l.94 2.06.94-2.06 2.06-.94-2.06-.94-.94-2.06-.94 2.06-2.06.94z\"/><path d=\"M17.41 7.96l-1.37-1.37c-.4-.4-.92-.59-1.43-.59-.52 0-1.04.2-1.43.59L10.3 9.45l-7.72 7.72c-.78.78-.78 2.05 0 2.83L4 21.41c.39.39.9.59 1.41.59.51 0 1.02-.2 1.41-.59l7.78-7.78 2.81-2.81c.8-.78.8-2.07 0-2.86zM5.41 20L4 18.59l7.72-7.72 1.47 1.35L5.41 20z\"/>\n",
              "  </svg>\n",
              "      </button>\n",
              "      \n",
              "  <style>\n",
              "    .colab-df-container {\n",
              "      display:flex;\n",
              "      flex-wrap:wrap;\n",
              "      gap: 12px;\n",
              "    }\n",
              "\n",
              "    .colab-df-convert {\n",
              "      background-color: #E8F0FE;\n",
              "      border: none;\n",
              "      border-radius: 50%;\n",
              "      cursor: pointer;\n",
              "      display: none;\n",
              "      fill: #1967D2;\n",
              "      height: 32px;\n",
              "      padding: 0 0 0 0;\n",
              "      width: 32px;\n",
              "    }\n",
              "\n",
              "    .colab-df-convert:hover {\n",
              "      background-color: #E2EBFA;\n",
              "      box-shadow: 0px 1px 2px rgba(60, 64, 67, 0.3), 0px 1px 3px 1px rgba(60, 64, 67, 0.15);\n",
              "      fill: #174EA6;\n",
              "    }\n",
              "\n",
              "    [theme=dark] .colab-df-convert {\n",
              "      background-color: #3B4455;\n",
              "      fill: #D2E3FC;\n",
              "    }\n",
              "\n",
              "    [theme=dark] .colab-df-convert:hover {\n",
              "      background-color: #434B5C;\n",
              "      box-shadow: 0px 1px 3px 1px rgba(0, 0, 0, 0.15);\n",
              "      filter: drop-shadow(0px 1px 2px rgba(0, 0, 0, 0.3));\n",
              "      fill: #FFFFFF;\n",
              "    }\n",
              "  </style>\n",
              "\n",
              "      <script>\n",
              "        const buttonEl =\n",
              "          document.querySelector('#df-7f89f04b-01fa-45a3-8c06-70f9a6c1a0fe button.colab-df-convert');\n",
              "        buttonEl.style.display =\n",
              "          google.colab.kernel.accessAllowed ? 'block' : 'none';\n",
              "\n",
              "        async function convertToInteractive(key) {\n",
              "          const element = document.querySelector('#df-7f89f04b-01fa-45a3-8c06-70f9a6c1a0fe');\n",
              "          const dataTable =\n",
              "            await google.colab.kernel.invokeFunction('convertToInteractive',\n",
              "                                                     [key], {});\n",
              "          if (!dataTable) return;\n",
              "\n",
              "          const docLinkHtml = 'Like what you see? Visit the ' +\n",
              "            '<a target=\"_blank\" href=https://colab.research.google.com/notebooks/data_table.ipynb>data table notebook</a>'\n",
              "            + ' to learn more about interactive tables.';\n",
              "          element.innerHTML = '';\n",
              "          dataTable['output_type'] = 'display_data';\n",
              "          await google.colab.output.renderOutput(dataTable, element);\n",
              "          const docLink = document.createElement('div');\n",
              "          docLink.innerHTML = docLinkHtml;\n",
              "          element.appendChild(docLink);\n",
              "        }\n",
              "      </script>\n",
              "    </div>\n",
              "  </div>\n",
              "  "
            ]
          },
          "metadata": {},
          "execution_count": 82
        }
      ]
    },
    {
      "cell_type": "markdown",
      "source": [
        "◼ Visualizar localizações das estações no Brasil"
      ],
      "metadata": {
        "id": "x4IwvaDmr1R7"
      }
    },
    {
      "cell_type": "code",
      "source": [
        "g = sns.lmplot(x=\"LONGITUDE\", y=\"LATITUDE\", data=df_station,\n",
        "           fit_reg=False, scatter_kws={\"s\": 30}, hue='REGIAO', height=10)\n",
        "plt.title('Estações de condições climáticas do Brasil')\n",
        "plt.show()"
      ],
      "metadata": {
        "colab": {
          "base_uri": "https://localhost:8080/",
          "height": 743
        },
        "id": "r5t-QnmFr3CS",
        "outputId": "90e7089a-ad4f-45c3-d923-803f3e755e53"
      },
      "execution_count": null,
      "outputs": [
        {
          "output_type": "display_data",
          "data": {
            "text/plain": [
              "<Figure size 791.15x720 with 1 Axes>"
            ],
            "image/png": "[encoded data removed]"
          },
          "metadata": {}
        }
      ]
    },
    {
      "cell_type": "markdown",
      "source": [
        "◼ Visualizar percentual de número de estações no brasil por altitude"
      ],
      "metadata": {
        "id": "qCQ7IFSOwS5U"
      }
    },
    {
      "cell_type": "code",
      "source": [
        "fig = px.pie(df_station, values=df_station['ALTITUDE'], names=df_station['UF'])\n",
        "fig.update_traces(textposition='inside', textinfo='percent+label')\n",
        "fig.show()"
      ],
      "metadata": {
        "colab": {
          "base_uri": "https://localhost:8080/",
          "height": 542
        },
        "id": "OMJUInwVv1oQ",
        "outputId": "b9108032-f1ee-4cb8-f447-c225a875a8f6"
      },
      "execution_count": null,
      "outputs": [
        {
          "output_type": "display_data",
          "data": {
            "text/html": [
              "<html>\n",
              "<head><meta charset=\"utf-8\" /></head>\n",
              "<body>\n",
              "    <div>            <script src=\"https://cdnjs.cloudflare.com/ajax/libs/mathjax/2.7.5/MathJax.js?config=TeX-AMS-MML_SVG\"></script><script type=\"text/javascript\">if (window.MathJax) {MathJax.Hub.Config({SVG: {font: \"STIX-Web\"}});}</script>                <script type=\"text/javascript\">window.PlotlyConfig = {MathJaxConfig: 'local'};</script>\n",
              "        <script src=\"https://cdn.plot.ly/plotly-2.8.3.min.js\"></script>                <div id=\"dbc4fcb4-fd05-4d93-87ef-d532c6e89fb7\" class=\"plotly-graph-div\" style=\"height:525px; width:100%;\"></div>            <script type=\"text/javascript\">                                    window.PLOTLYENV=window.PLOTLYENV || {};                                    if (document.getElementById(\"dbc4fcb4-fd05-4d93-87ef-d532c6e89fb7\")) {                    Plotly.newPlot(                        \"dbc4fcb4-fd05-4d93-87ef-d532c6e89fb7\",                        [{\"domain\":{\"x\":[0.0,1.0],\"y\":[0.0,1.0]},\"hovertemplate\":\"UF=%{label}<br>ALTITUDE=%{value}<extra></extra>\",\"labels\":[\"PA\",\"SP\",\"DF\",\"BA\",\"AM\",\"RJ\",\"RS\",\"GO\",\"GO\",\"MS\",\"MS\",\"MS\",\"BA\",\"SP\",\"RS\",\"RS\",\"RS\",\"RS\",\"MT\",\"MT\",\"MT\",\"MT\",\"MT\",\"BA\",\"BA\",\"MG\",\"MG\",\"MG\",\"MG\",\"MG\",\"RJ\",\"RJ\",\"RJ\",\"SP\",\"SP\",\"MS\",\"MT\",\"MT\",\"AL\",\"BA\",\"BA\",\"BA\",\"BA\",\"BA\",\"CE\",\"CE\",\"MA\",\"PE\",\"PI\",\"RN\",\"RN\",\"SE\",\"PA\",\"PA\",\"SP\",\"PR\",\"SC\",\"PB\",\"PE\",\"PE\",\"PI\",\"PI\",\"TO\",\"MG\",\"TO\",\"MG\",\"GO\",\"GO\",\"MS\",\"MS\",\"MS\",\"MS\",\"MS\",\"MS\",\"MS\",\"MS\",\"MS\",\"MS\",\"MS\",\"MT\",\"MT\",\"MT\",\"MT\",\"MT\",\"MT\",\"MT\",\"MT\",\"MT\",\"PB\",\"TO\",\"TO\",\"ES\",\"ES\",\"ES\",\"ES\",\"ES\",\"MG\",\"MG\",\"MG\",\"MG\",\"MG\",\"MG\",\"MG\",\"MG\",\"MG\",\"MG\",\"MG\",\"MG\",\"MG\",\"MG\",\"MG\",\"MG\",\"MG\",\"MG\",\"MG\",\"RJ\",\"RJ\",\"RJ\",\"RJ\",\"RJ\",\"RJ\",\"RJ\",\"RJ\",\"SP\",\"SP\",\"SP\",\"SP\",\"SP\",\"SP\",\"SP\",\"SP\",\"SP\",\"SP\",\"SP\",\"SP\",\"SP\",\"PR\",\"PR\",\"PR\",\"PR\",\"PR\",\"PR\",\"PR\",\"PR\",\"RS\",\"RS\",\"RS\",\"RS\",\"RS\",\"RS\",\"RS\",\"RS\",\"RS\",\"RS\",\"RS\",\"SC\",\"GO\",\"GO\",\"GO\",\"GO\",\"GO\",\"GO\",\"GO\",\"GO\",\"GO\",\"GO\",\"GO\",\"GO\",\"GO\",\"GO\",\"MT\",\"MT\",\"MT\",\"MT\",\"AL\",\"AL\",\"BA\",\"BA\",\"BA\",\"BA\",\"BA\",\"CE\",\"CE\",\"CE\",\"CE\",\"CE\",\"CE\",\"CE\",\"MA\",\"MA\",\"PB\",\"PB\",\"PB\",\"PB\",\"PE\",\"PE\",\"PE\",\"PI\",\"PI\",\"PI\",\"PI\",\"PI\",\"PI\",\"PI\",\"RN\",\"RN\",\"RN\",\"RN\",\"SE\",\"PA\",\"PA\",\"RO\",\"TO\",\"TO\",\"ES\",\"MG\",\"MG\",\"MG\",\"MG\",\"MG\",\"MG\",\"MG\",\"MG\",\"MG\",\"MG\",\"MG\",\"MG\",\"MG\",\"MG\",\"MG\",\"MG\",\"MG\",\"MG\",\"MG\",\"MG\",\"MG\",\"MG\",\"MG\",\"MG\",\"RJ\",\"RJ\",\"SP\",\"SP\",\"SP\",\"SP\",\"SP\",\"SP\",\"SP\",\"SP\",\"PR\",\"PR\",\"PR\",\"PR\",\"RS\",\"RS\",\"RS\",\"RS\",\"RS\",\"RS\",\"RS\",\"RS\",\"RS\",\"RS\",\"SC\",\"SC\",\"SC\",\"DF\",\"GO\",\"GO\",\"MS\",\"MS\",\"MS\",\"MS\",\"MS\",\"MS\",\"MS\",\"MT\",\"MT\",\"MT\",\"MT\",\"MT\",\"MT\",\"MT\",\"MT\",\"MT\",\"MT\",\"MT\",\"MT\",\"AL\",\"AL\",\"AL\",\"BA\",\"BA\",\"BA\",\"BA\",\"BA\",\"BA\",\"BA\",\"BA\",\"BA\",\"BA\",\"BA\",\"BA\",\"BA\",\"BA\",\"BA\",\"BA\",\"BA\",\"BA\",\"BA\",\"BA\",\"BA\",\"BA\",\"CE\",\"CE\",\"CE\",\"CE\",\"MA\",\"MA\",\"MA\",\"MA\",\"MA\",\"MA\",\"MA\",\"MA\",\"MA\",\"MA\",\"MA\",\"MA\",\"MA\",\"PB\",\"PB\",\"PE\",\"PE\",\"PE\",\"PE\",\"PE\",\"PI\",\"PI\",\"PI\",\"PI\",\"RN\",\"SE\",\"SE\",\"SE\",\"AC\",\"AC\",\"AM\",\"AM\",\"AM\",\"AM\",\"AM\",\"AM\",\"AM\",\"AM\",\"AM\",\"AM\",\"AM\",\"AM\",\"AM\",\"AM\",\"AP\",\"PA\",\"PA\",\"PA\",\"PA\",\"PA\",\"PA\",\"PA\",\"PA\",\"PA\",\"PA\",\"PA\",\"PA\",\"PA\",\"PA\",\"PA\",\"RO\",\"RO\",\"RO\",\"TO\",\"TO\",\"ES\",\"ES\",\"MG\",\"MG\",\"RJ\",\"SP\",\"SP\",\"SP\",\"SP\",\"PR\",\"PR\",\"PR\",\"PR\",\"PR\",\"PR\",\"PR\",\"PR\",\"RS\",\"RS\",\"RS\",\"RS\",\"RS\",\"RS\",\"RS\",\"SC\",\"SC\",\"SC\",\"SC\",\"SC\",\"SC\",\"SC\",\"SC\",\"SC\",\"SC\",\"SC\",\"SC\",\"SC\",\"BA\",\"BA\",\"BA\",\"BA\",\"CE\",\"PI\",\"PI\",\"PI\",\"PI\",\"AC\",\"AC\",\"AC\",\"AC\",\"PA\",\"TO\",\"RS\",\"SC\",\"GO\",\"MS\",\"PE\",\"PI\",\"RN\",\"PA\",\"RR\",\"MG\",\"RJ\",\"SP\",\"RS\",\"SC\",\"MS\",\"MS\",\"MT\",\"AM\",\"AM\",\"PA\",\"ES\",\"SP\",\"PR\",\"PR\",\"MS\",\"MS\",\"MT\",\"AM\",\"PA\",\"PA\",\"TO\",\"TO\",\"TO\",\"MG\",\"RS\",\"RS\",\"GO\",\"MS\",\"AP\",\"MG\",\"RS\",\"DF\",\"SC\",\"BA\",\"BA\",\"AC\",\"PA\",\"TO\",\"TO\",\"MG\",\"RJ\",\"RJ\",\"BA\",\"BA\",\"BA\",\"BA\",\"MA\",\"AM\",\"AM\",\"AM\",\"AM\",\"AM\",\"AM\",\"AM\",\"PA\",\"PA\",\"PA\",\"PA\",\"PA\",\"RO\",\"RO\",\"RO\",\"RR\",\"RR\",\"TO\",\"TO\",\"TO\",\"TO\",\"TO\",\"TO\",\"MG\",\"MG\",\"MG\",\"MG\",\"MG\",\"RJ\",\"RJ\",\"SP\",\"SP\",\"PR\",\"PR\",\"PR\",\"RS\",\"RS\",\"RS\",\"RS\",\"SC\",\"DF\",\"DF\",\"GO\",\"GO\",\"MT\",\"MT\",\"AL\",\"PB\",\"PE\",\"RN\",\"SE\",\"SE\",\"AP\",\"PA\",\"ES\",\"ES\",\"ES\",\"ES\",\"MG\",\"MG\",\"MG\",\"MG\",\"MG\",\"MG\",\"RJ\",\"RJ\",\"RJ\",\"SP\",\"SP\",\"SP\",\"SP\",\"SP\",\"SP\",\"SP\",\"GO\",\"GO\",\"MS\",\"MS\",\"MS\",\"MS\",\"MS\",\"MS\",\"MS\",\"MS\",\"MS\",\"MS\",\"MS\",\"MS\",\"MS\",\"MS\",\"MS\",\"MS\",\"MS\",\"BA\",\"BA\",\"CE\",\"CE\",\"PI\",\"PI\",\"PI\",\"PA\",\"PA\",\"MG\",\"RJ\",\"RJ\",\"RJ\",\"SP\",\"RS\",\"MT\",\"MT\",\"MT\",\"MA\",\"PI\",\"AM\",\"AP\",\"PA\",\"SP\",\"PR\",\"RS\",\"SC\",\"SC\"],\"legendgroup\":\"\",\"name\":\"\",\"showlegend\":true,\"values\":[165.0,1285.0,1159.54,51.41,61.25,33.0,46.97,770.0,771.42,530.0,675.0,313.0,470.37,666.0,2.46,95.0,196.0,490.0,240.0,321.5,380.0,570.0,320.0,754.04,2.88,1155.0,1020.0,646.29,869.0,194.0,9.7,33.0,35.0,1642.0,1026.0,373.8,350.0,284.0,80.0,225.87,755.61,249.89,78.0,380.0,26.45,109.62,56.0,370.46,79.5,15.0,48.6,4.72,24.0,65.0,435.55,923.5,1.8,574.62,10.0,680.7,123.27,74.36,280.0,1500.0,280.0,712.2,488.51,959.5,424.0,91.0,155.0,252.0,469.0,140.0,85.0,126.0,818.0,400.0,647.0,432.0,220.0,749.0,591.0,260.0,474.0,371.0,220.0,222.0,547.56,242.0,287.0,9.0,40.0,35.0,39.0,138.0,333.0,560.0,1061.0,991.0,955.0,784.0,297.0,555.2,568.0,869.0,208.0,976.0,873.0,912.0,475.0,921.0,1150.0,1276.33,670.0,4.0,25.0,32.0,439.89,1777.0,367.0,980.0,5.0,792.06,863.0,2.66,609.0,745.0,678.0,448.0,398.0,775.0,573.0,450.0,571.0,465.0,808.0,1007.76,392.0,522.0,654.0,1260.0,385.0,542.0,4.66,62.31,276.0,420.0,111.0,121.0,765.0,1244.0,90.66,684.05,640.0,86.13,347.0,512.0,522.0,582.0,834.0,667.0,737.0,1260.0,782.0,862.0,1253.0,752.0,488.0,1202.0,339.0,261.0,218.0,289.0,19.0,275.0,231.0,874.81,450.0,549.0,440.0,38.2,409.0,233.0,415.0,232.0,43.6,12.0,254.0,192.0,47.0,249.0,233.06,603.66,822.76,337.0,550.0,415.0,374.22,235.0,161.2,270.0,523.0,65.0,169.85,32.0,36.0,150.0,208.0,101.0,38.0,98.0,189.0,226.0,988.0,950.0,512.0,1040.0,214.0,860.0,83.74,722.0,1356.0,460.0,213.5,948.0,631.0,569.64,894.0,503.0,616.0,460.0,880.0,740.0,266.0,950.0,495.0,877.0,615.0,45.0,42.0,457.0,374.0,405.0,525.0,492.0,730.0,633.0,730.0,668.0,520.0,1.0,398.0,462.0,230.0,83.0,124.0,126.0,47.0,842.58,245.11,432.0,490.0,776.0,1810.0,2.0,1200.0,678.0,890.0,516.0,329.0,379.0,431.0,402.0,336.0,464.0,306.0,431.0,353.0,518.0,379.0,648.0,526.0,585.0,875.0,145.0,303.0,256.0,241.0,74.0,19.0,25.0,401.0,755.0,438.74,882.0,85.0,539.0,403.0,1290.0,31.9,506.5,470.0,407.0,453.0,315.0,74.0,10.0,430.0,453.0,339.0,430.0,637.0,291.0,572.0,184.0,102.0,91.0,230.0,8.0,0.1,41.0,28.0,153.0,179.0,281.0,180.0,126.0,76.0,175.0,436.0,136.0,418.0,448.0,461.0,332.0,180.0,233.0,402.0,393.0,156.0,17.0,362.0,308.0,6.11,187.0,220.0,111.0,64.0,72.0,160.0,53.0,55.0,78.0,74.0,35.0,52.0,17.0,59.0,92.0,42.0,21.0,251.0,108.0,96.0,203.0,41.0,33.0,11.0,148.0,719.0,13.0,168.0,317.0,106.0,22.0,180.0,590.0,210.0,140.0,732.0,220.0,80.0,154.0,750.0,1208.0,8.0,544.0,667.0,544.0,600.0,242.0,362.0,311.0,381.0,694.0,59.0,1018.0,980.0,1.0,667.0,631.0,10.0,830.0,986.0,26.0,48.0,1410.0,960.0,810.0,665.0,889.0,952.0,860.0,592.0,869.0,484.0,52.0,12.0,105.0,125.0,269.0,88.0,76.0,286.0,287.0,301.0,425.0,204.0,230.0,163.0,217.0,116.0,117.0,394.0,808.0,949.0,338.0,464.0,308.0,237.0,261.0,94.0,836.0,1046.0,533.0,150.0,18.0,208.0,249.0,753.0,71.0,90.0,81.0,520.0,791.0,1106.0,788.0,730.0,486.0,116.0,143.0,96.0,96.0,798.0,203.0,425.0,431.0,81.0,456.0,625.0,387.0,27.0,1214.0,24.0,990.0,955.0,370.0,261.0,220.0,137.0,306.0,231.0,845.0,19.0,16.0,400.0,488.0,574.0,110.0,0.0,0.0,0.0,0.0,0.0,0.0,0.0,0.0,211.0,245.0,0.0,0.0,0.0,0.0,0.0,0.0,0.0,0.0,171.0,200.0,291.0,161.0,512.0,178.0,480.0,532.0,697.0,719.0,0.0,305.0,516.0,383.0,590.0,592.0,835.0,950.0,462.0,134.0,545.0,1017.0,881.0,1143.0,1043.0,608.0,340.0,105.0,680.0,187.0,292.0,447.0,19.0,213.0,271.0,21.0,11.0,224.0,95.0,722.0,25.0,950.0,796.0,308.0,969.0,778.0,1025.0,6.0,2450.0,20.0,891.0,660.0,5.0,35.0,24.0,498.0,586.0,365.5,932.0,347.0,605.0,624.0,329.0,345.0,454.0,540.0,340.0,319.0,360.0,499.0,5.0,372.0,251.0,436.0,383.0,374.0,31.0,182.0,756.0,193.0,452.0,519.0,125.0,251.0,191.0,712.0,6.0,293.0,517.0,771.0,427.75,300.0,441.0,195.0,45.5,183.0,45.0,84.0,199.0,620.0,452.34,13.0,680.0,963.0],\"type\":\"pie\",\"textinfo\":\"percent+label\",\"textposition\":\"inside\"}],                        {\"template\":{\"data\":{\"bar\":[{\"error_x\":{\"color\":\"#2a3f5f\"},\"error_y\":{\"color\":\"#2a3f5f\"},\"marker\":{\"line\":{\"color\":\"#E5ECF6\",\"width\":0.5},\"pattern\":{\"fillmode\":\"overlay\",\"size\":10,\"solidity\":0.2}},\"type\":\"bar\"}],\"barpolar\":[{\"marker\":{\"line\":{\"color\":\"#E5ECF6\",\"width\":0.5},\"pattern\":{\"fillmode\":\"overlay\",\"size\":10,\"solidity\":0.2}},\"type\":\"barpolar\"}],\"carpet\":[{\"aaxis\":{\"endlinecolor\":\"#2a3f5f\",\"gridcolor\":\"white\",\"linecolor\":\"white\",\"minorgridcolor\":\"white\",\"startlinecolor\":\"#2a3f5f\"},\"baxis\":{\"endlinecolor\":\"#2a3f5f\",\"gridcolor\":\"white\",\"linecolor\":\"white\",\"minorgridcolor\":\"white\",\"startlinecolor\":\"#2a3f5f\"},\"type\":\"carpet\"}],\"choropleth\":[{\"colorbar\":{\"outlinewidth\":0,\"ticks\":\"\"},\"type\":\"choropleth\"}],\"contour\":[{\"colorbar\":{\"outlinewidth\":0,\"ticks\":\"\"},\"colorscale\":[[0.0,\"#0d0887\"],[0.1111111111111111,\"#46039f\"],[0.2222222222222222,\"#7201a8\"],[0.3333333333333333,\"#9c179e\"],[0.4444444444444444,\"#bd3786\"],[0.5555555555555556,\"#d8576b\"],[0.6666666666666666,\"#ed7953\"],[0.7777777777777778,\"#fb9f3a\"],[0.8888888888888888,\"#fdca26\"],[1.0,\"#f0f921\"]],\"type\":\"contour\"}],\"contourcarpet\":[{\"colorbar\":{\"outlinewidth\":0,\"ticks\":\"\"},\"type\":\"contourcarpet\"}],\"heatmap\":[{\"colorbar\":{\"outlinewidth\":0,\"ticks\":\"\"},\"colorscale\":[[0.0,\"#0d0887\"],[0.1111111111111111,\"#46039f\"],[0.2222222222222222,\"#7201a8\"],[0.3333333333333333,\"#9c179e\"],[0.4444444444444444,\"#bd3786\"],[0.5555555555555556,\"#d8576b\"],[0.6666666666666666,\"#ed7953\"],[0.7777777777777778,\"#fb9f3a\"],[0.8888888888888888,\"#fdca26\"],[1.0,\"#f0f921\"]],\"type\":\"heatmap\"}],\"heatmapgl\":[{\"colorbar\":{\"outlinewidth\":0,\"ticks\":\"\"},\"colorscale\":[[0.0,\"#0d0887\"],[0.1111111111111111,\"#46039f\"],[0.2222222222222222,\"#7201a8\"],[0.3333333333333333,\"#9c179e\"],[0.4444444444444444,\"#bd3786\"],[0.5555555555555556,\"#d8576b\"],[0.6666666666666666,\"#ed7953\"],[0.7777777777777778,\"#fb9f3a\"],[0.8888888888888888,\"#fdca26\"],[1.0,\"#f0f921\"]],\"type\":\"heatmapgl\"}],\"histogram\":[{\"marker\":{\"pattern\":{\"fillmode\":\"overlay\",\"size\":10,\"solidity\":0.2}},\"type\":\"histogram\"}],\"histogram2d\":[{\"colorbar\":{\"outlinewidth\":0,\"ticks\":\"\"},\"colorscale\":[[0.0,\"#0d0887\"],[0.1111111111111111,\"#46039f\"],[0.2222222222222222,\"#7201a8\"],[0.3333333333333333,\"#9c179e\"],[0.4444444444444444,\"#bd3786\"],[0.5555555555555556,\"#d8576b\"],[0.6666666666666666,\"#ed7953\"],[0.7777777777777778,\"#fb9f3a\"],[0.8888888888888888,\"#fdca26\"],[1.0,\"#f0f921\"]],\"type\":\"histogram2d\"}],\"histogram2dcontour\":[{\"colorbar\":{\"outlinewidth\":0,\"ticks\":\"\"},\"colorscale\":[[0.0,\"#0d0887\"],[0.1111111111111111,\"#46039f\"],[0.2222222222222222,\"#7201a8\"],[0.3333333333333333,\"#9c179e\"],[0.4444444444444444,\"#bd3786\"],[0.5555555555555556,\"#d8576b\"],[0.6666666666666666,\"#ed7953\"],[0.7777777777777778,\"#fb9f3a\"],[0.8888888888888888,\"#fdca26\"],[1.0,\"#f0f921\"]],\"type\":\"histogram2dcontour\"}],\"mesh3d\":[{\"colorbar\":{\"outlinewidth\":0,\"ticks\":\"\"},\"type\":\"mesh3d\"}],\"parcoords\":[{\"line\":{\"colorbar\":{\"outlinewidth\":0,\"ticks\":\"\"}},\"type\":\"parcoords\"}],\"pie\":[{\"automargin\":true,\"type\":\"pie\"}],\"scatter\":[{\"marker\":{\"colorbar\":{\"outlinewidth\":0,\"ticks\":\"\"}},\"type\":\"scatter\"}],\"scatter3d\":[{\"line\":{\"colorbar\":{\"outlinewidth\":0,\"ticks\":\"\"}},\"marker\":{\"colorbar\":{\"outlinewidth\":0,\"ticks\":\"\"}},\"type\":\"scatter3d\"}],\"scattercarpet\":[{\"marker\":{\"colorbar\":{\"outlinewidth\":0,\"ticks\":\"\"}},\"type\":\"scattercarpet\"}],\"scattergeo\":[{\"marker\":{\"colorbar\":{\"outlinewidth\":0,\"ticks\":\"\"}},\"type\":\"scattergeo\"}],\"scattergl\":[{\"marker\":{\"colorbar\":{\"outlinewidth\":0,\"ticks\":\"\"}},\"type\":\"scattergl\"}],\"scattermapbox\":[{\"marker\":{\"colorbar\":{\"outlinewidth\":0,\"ticks\":\"\"}},\"type\":\"scattermapbox\"}],\"scatterpolar\":[{\"marker\":{\"colorbar\":{\"outlinewidth\":0,\"ticks\":\"\"}},\"type\":\"scatterpolar\"}],\"scatterpolargl\":[{\"marker\":{\"colorbar\":{\"outlinewidth\":0,\"ticks\":\"\"}},\"type\":\"scatterpolargl\"}],\"scatterternary\":[{\"marker\":{\"colorbar\":{\"outlinewidth\":0,\"ticks\":\"\"}},\"type\":\"scatterternary\"}],\"surface\":[{\"colorbar\":{\"outlinewidth\":0,\"ticks\":\"\"},\"colorscale\":[[0.0,\"#0d0887\"],[0.1111111111111111,\"#46039f\"],[0.2222222222222222,\"#7201a8\"],[0.3333333333333333,\"#9c179e\"],[0.4444444444444444,\"#bd3786\"],[0.5555555555555556,\"#d8576b\"],[0.6666666666666666,\"#ed7953\"],[0.7777777777777778,\"#fb9f3a\"],[0.8888888888888888,\"#fdca26\"],[1.0,\"#f0f921\"]],\"type\":\"surface\"}],\"table\":[{\"cells\":{\"fill\":{\"color\":\"#EBF0F8\"},\"line\":{\"color\":\"white\"}},\"header\":{\"fill\":{\"color\":\"#C8D4E3\"},\"line\":{\"color\":\"white\"}},\"type\":\"table\"}]},\"layout\":{\"annotationdefaults\":{\"arrowcolor\":\"#2a3f5f\",\"arrowhead\":0,\"arrowwidth\":1},\"autotypenumbers\":\"strict\",\"coloraxis\":{\"colorbar\":{\"outlinewidth\":0,\"ticks\":\"\"}},\"colorscale\":{\"diverging\":[[0,\"#8e0152\"],[0.1,\"#c51b7d\"],[0.2,\"#de77ae\"],[0.3,\"#f1b6da\"],[0.4,\"#fde0ef\"],[0.5,\"#f7f7f7\"],[0.6,\"#e6f5d0\"],[0.7,\"#b8e186\"],[0.8,\"#7fbc41\"],[0.9,\"#4d9221\"],[1,\"#276419\"]],\"sequential\":[[0.0,\"#0d0887\"],[0.1111111111111111,\"#46039f\"],[0.2222222222222222,\"#7201a8\"],[0.3333333333333333,\"#9c179e\"],[0.4444444444444444,\"#bd3786\"],[0.5555555555555556,\"#d8576b\"],[0.6666666666666666,\"#ed7953\"],[0.7777777777777778,\"#fb9f3a\"],[0.8888888888888888,\"#fdca26\"],[1.0,\"#f0f921\"]],\"sequentialminus\":[[0.0,\"#0d0887\"],[0.1111111111111111,\"#46039f\"],[0.2222222222222222,\"#7201a8\"],[0.3333333333333333,\"#9c179e\"],[0.4444444444444444,\"#bd3786\"],[0.5555555555555556,\"#d8576b\"],[0.6666666666666666,\"#ed7953\"],[0.7777777777777778,\"#fb9f3a\"],[0.8888888888888888,\"#fdca26\"],[1.0,\"#f0f921\"]]},\"colorway\":[\"#636efa\",\"#EF553B\",\"#00cc96\",\"#ab63fa\",\"#FFA15A\",\"#19d3f3\",\"#FF6692\",\"#B6E880\",\"#FF97FF\",\"#FECB52\"],\"font\":{\"color\":\"#2a3f5f\"},\"geo\":{\"bgcolor\":\"white\",\"lakecolor\":\"white\",\"landcolor\":\"#E5ECF6\",\"showlakes\":true,\"showland\":true,\"subunitcolor\":\"white\"},\"hoverlabel\":{\"align\":\"left\"},\"hovermode\":\"closest\",\"mapbox\":{\"style\":\"light\"},\"paper_bgcolor\":\"white\",\"plot_bgcolor\":\"#E5ECF6\",\"polar\":{\"angularaxis\":{\"gridcolor\":\"white\",\"linecolor\":\"white\",\"ticks\":\"\"},\"bgcolor\":\"#E5ECF6\",\"radialaxis\":{\"gridcolor\":\"white\",\"linecolor\":\"white\",\"ticks\":\"\"}},\"scene\":{\"xaxis\":{\"backgroundcolor\":\"#E5ECF6\",\"gridcolor\":\"white\",\"gridwidth\":2,\"linecolor\":\"white\",\"showbackground\":true,\"ticks\":\"\",\"zerolinecolor\":\"white\"},\"yaxis\":{\"backgroundcolor\":\"#E5ECF6\",\"gridcolor\":\"white\",\"gridwidth\":2,\"linecolor\":\"white\",\"showbackground\":true,\"ticks\":\"\",\"zerolinecolor\":\"white\"},\"zaxis\":{\"backgroundcolor\":\"#E5ECF6\",\"gridcolor\":\"white\",\"gridwidth\":2,\"linecolor\":\"white\",\"showbackground\":true,\"ticks\":\"\",\"zerolinecolor\":\"white\"}},\"shapedefaults\":{\"line\":{\"color\":\"#2a3f5f\"}},\"ternary\":{\"aaxis\":{\"gridcolor\":\"white\",\"linecolor\":\"white\",\"ticks\":\"\"},\"baxis\":{\"gridcolor\":\"white\",\"linecolor\":\"white\",\"ticks\":\"\"},\"bgcolor\":\"#E5ECF6\",\"caxis\":{\"gridcolor\":\"white\",\"linecolor\":\"white\",\"ticks\":\"\"}},\"title\":{\"x\":0.05},\"xaxis\":{\"automargin\":true,\"gridcolor\":\"white\",\"linecolor\":\"white\",\"ticks\":\"\",\"title\":{\"standoff\":15},\"zerolinecolor\":\"white\",\"zerolinewidth\":2},\"yaxis\":{\"automargin\":true,\"gridcolor\":\"white\",\"linecolor\":\"white\",\"ticks\":\"\",\"title\":{\"standoff\":15},\"zerolinecolor\":\"white\",\"zerolinewidth\":2}}},\"legend\":{\"tracegroupgap\":0},\"margin\":{\"t\":60}},                        {\"responsive\": true}                    ).then(function(){\n",
              "                            \n",
              "var gd = document.getElementById('dbc4fcb4-fd05-4d93-87ef-d532c6e89fb7');\n",
              "var x = new MutationObserver(function (mutations, observer) {{\n",
              "        var display = window.getComputedStyle(gd).display;\n",
              "        if (!display || display === 'none') {{\n",
              "            console.log([gd, 'removed!']);\n",
              "            Plotly.purge(gd);\n",
              "            observer.disconnect();\n",
              "        }}\n",
              "}});\n",
              "\n",
              "// Listen for the removal of the full notebook cells\n",
              "var notebookContainer = gd.closest('#notebook-container');\n",
              "if (notebookContainer) {{\n",
              "    x.observe(notebookContainer, {childList: true});\n",
              "}}\n",
              "\n",
              "// Listen for the clearing of the current output cell\n",
              "var outputEl = gd.closest('.output');\n",
              "if (outputEl) {{\n",
              "    x.observe(outputEl, {childList: true});\n",
              "}}\n",
              "\n",
              "                        })                };                            </script>        </div>\n",
              "</body>\n",
              "</html>"
            ]
          },
          "metadata": {}
        }
      ]
    },
    {
      "cell_type": "markdown",
      "source": [
        "◼ Filtrar data set original pela estação: A00802 referente ao Rio Grande do Sul"
      ],
      "metadata": {
        "id": "4Ng6BeDlrkFi"
      }
    },
    {
      "cell_type": "code",
      "source": [
        "df_station_A802 = df_weather.loc[df_weather['ESTACAO'] == 'A802']"
      ],
      "metadata": {
        "id": "KZAhpX2ewi24"
      },
      "execution_count": null,
      "outputs": []
    },
    {
      "cell_type": "markdown",
      "source": [
        "◼ **Fazendo uma exploração de dados simples por variáveis**\n"
      ],
      "metadata": {
        "id": "zbQ5N3mB7eKI"
      }
    },
    {
      "cell_type": "markdown",
      "source": [
        "> Colunas importantes para previsão das condições climáticas"
      ],
      "metadata": {
        "id": "-pNV1aRlH4IF"
      }
    },
    {
      "cell_type": "code",
      "source": [
        "columns_to_inspect = [\n",
        "                      'DATA (YYYY-MM-DD)',\n",
        "                      'UMIDADE RELATIVA DO AR, HORARIA (%)',\n",
        "                      'VENTO, DIRECAO HORARIA (gr)',\n",
        "                      'VENTO, RAJADA MAXIMA (m/s)',\n",
        "                      'PRESSAO ATMOSFERICA AO NIVEL DA ESTACAO, HORARIA (mB)'\n",
        "                      ]"
      ],
      "metadata": {
        "id": "bm0UzKWgGiw1"
      },
      "execution_count": null,
      "outputs": []
    },
    {
      "cell_type": "markdown",
      "source": [
        "> Dropar dados nulos"
      ],
      "metadata": {
        "id": "CIm39n2QIBXT"
      }
    },
    {
      "cell_type": "code",
      "source": [
        "df_station_A802 = df_station_A802.dropna(subset=columns_to_inspect).compute()"
      ],
      "metadata": {
        "id": "l-Z3mkyZFfQg"
      },
      "execution_count": null,
      "outputs": []
    },
    {
      "cell_type": "markdown",
      "source": [
        "> Resumo conciso do dataframe"
      ],
      "metadata": {
        "id": "ZfoB8ZiJDw_E"
      }
    },
    {
      "cell_type": "code",
      "source": [
        "df_station_A802.info()"
      ],
      "metadata": {
        "colab": {
          "base_uri": "https://localhost:8080/"
        },
        "id": "jg1-If6BDq6P",
        "outputId": "6fbada39-6026-4f68-ab48-58057fbf779e"
      },
      "execution_count": null,
      "outputs": [
        {
          "output_type": "stream",
          "name": "stdout",
          "text": [
            "<class 'pandas.core.frame.DataFrame'>\n",
            "Int64Index: 168408 entries, 388368 to 506570\n",
            "Data columns (total 20 columns):\n",
            " #   Column                                                 Non-Null Count   Dtype  \n",
            "---  ------                                                 --------------   -----  \n",
            " 0   ESTACAO                                                168408 non-null  object \n",
            " 1   DATA (YYYY-MM-DD)                                      168408 non-null  object \n",
            " 2   HORA (UTC)                                             168408 non-null  int64  \n",
            " 3   PRECIPITACAO TOTAL HORARIO (mm)                        168408 non-null  float64\n",
            " 4   PRESSAO ATMOSFERICA AO NIVEL DA ESTACAO, HORARIA (mB)  168408 non-null  float64\n",
            " 5   PRESSAO ATMOSFERICA MAX.NA HORA ANT. (AUT) (mB)        168408 non-null  float64\n",
            " 6   PRESSAO ATMOSFERICA MIN. NA HORA ANT. (AUT) (mB)       168408 non-null  float64\n",
            " 7   RADIACAO GLOBAL (W/m2)                                 160817 non-null  float64\n",
            " 8   TEMPERATURA DO AR - BULBO SECO, HORARIA (C)            168408 non-null  float64\n",
            " 9   TEMPERATURA DO PONTO DE ORVALHO (C)                    168408 non-null  float64\n",
            " 10  TEMPERATURA MAXIMA NA HORA ANT. (AUT) (C)              168408 non-null  float64\n",
            " 11  TEMPERATURA MINIMA NA HORA ANT. (AUT) (C)              168408 non-null  float64\n",
            " 12  TEMPERATURA ORVALHO MAX. NA HORA ANT. (AUT) (C)        168408 non-null  float64\n",
            " 13  TEMPERATURA ORVALHO MIN. NA HORA ANT. (AUT) (C)        168408 non-null  float64\n",
            " 14  UMIDADE REL. MAX. NA HORA ANT. (AUT) (%)               168408 non-null  float64\n",
            " 15  UMIDADE REL. MIN. NA HORA ANT. (AUT) (%)               168408 non-null  float64\n",
            " 16  UMIDADE RELATIVA DO AR, HORARIA (%)                    168408 non-null  float64\n",
            " 17  VENTO, DIRECAO HORARIA (gr)                            168408 non-null  float64\n",
            " 18  VENTO, RAJADA MAXIMA (m/s)                             168408 non-null  float64\n",
            " 19  VENTO, VELOCIDADE HORARIA (m/s)                        168408 non-null  float64\n",
            "dtypes: float64(17), int64(1), object(2)\n",
            "memory usage: 27.0+ MB\n"
          ]
        }
      ]
    },
    {
      "cell_type": "markdown",
      "source": [
        ">  Pressão atmosferica ao nível da estação: *PRESSAO ATMOSFERICA AO NIVEL DA ESTACAO, HORARIA (mB)*"
      ],
      "metadata": {
        "id": "BcxC7RY38wBF"
      }
    },
    {
      "cell_type": "code",
      "source": [
        "describe_stats_prs_at = df_station_A802['PRESSAO ATMOSFERICA AO NIVEL DA ESTACAO, HORARIA (mB)'].describe().compute()\n",
        "describe_stats_prs_at.round(2)"
      ],
      "metadata": {
        "colab": {
          "base_uri": "https://localhost:8080/"
        },
        "id": "3TzzNmV57r7i",
        "outputId": "864dc23e-f31a-41f6-ea2d-9903332a2ac4"
      },
      "execution_count": null,
      "outputs": [
        {
          "output_type": "execute_result",
          "data": {
            "text/plain": [
              "count    168408.00\n",
              "mean       -262.96\n",
              "std        3527.12\n",
              "min       -9999.00\n",
              "25%        1010.70\n",
              "50%        1015.20\n",
              "75%        1019.20\n",
              "max        1037.10\n",
              "Name: PRESSAO ATMOSFERICA AO NIVEL DA ESTACAO, HORARIA (mB), dtype: float64"
            ]
          },
          "metadata": {},
          "execution_count": 71
        }
      ]
    },
    {
      "cell_type": "markdown",
      "source": [
        "> Temperatura do Ar: *TEMPERATURA DO AR - BULBO SECO, HORARIA (C)*"
      ],
      "metadata": {
        "id": "9kF-4yHL9MUW"
      }
    },
    {
      "cell_type": "code",
      "source": [
        "describe_stats_temp_ar = df_station_A802['TEMPERATURA DO AR - BULBO SECO, HORARIA (C)'].describe()\n",
        "describe_stats_temp_ar.round(2)"
      ],
      "metadata": {
        "colab": {
          "base_uri": "https://localhost:8080/"
        },
        "id": "3kju9qYZ9L_b",
        "outputId": "713444a0-9ba6-4582-be5a-414ccfe4fb3b"
      },
      "execution_count": null,
      "outputs": [
        {
          "output_type": "execute_result",
          "data": {
            "text/plain": [
              "count    168408.00\n",
              "mean      -1143.24\n",
              "std        3207.66\n",
              "min       -9999.00\n",
              "25%          12.90\n",
              "50%          18.00\n",
              "75%          22.10\n",
              "max          38.40\n",
              "Name: TEMPERATURA DO AR - BULBO SECO, HORARIA (C), dtype: float64"
            ]
          },
          "metadata": {},
          "execution_count": 94
        }
      ]
    },
    {
      "cell_type": "markdown",
      "source": [
        "> Umidade Relativa do Ar: *UMIDADE RELATIVA DO AR, HORARIA (%)*"
      ],
      "metadata": {
        "id": "VRmG2d9aAzMQ"
      }
    },
    {
      "cell_type": "code",
      "source": [
        "describe_stats_umidad = df_station_A802['UMIDADE RELATIVA DO AR, HORARIA (%)'].describe()\n",
        "describe_stats_umidad.round(2)"
      ],
      "metadata": {
        "colab": {
          "base_uri": "https://localhost:8080/"
        },
        "id": "y8UKH0d6AzWK",
        "outputId": "e61f672a-d086-4659-eaa5-79a5f3eec254"
      },
      "execution_count": null,
      "outputs": [
        {
          "output_type": "execute_result",
          "data": {
            "text/plain": [
              "count    168408.00\n",
              "mean      -1539.50\n",
              "std        3697.42\n",
              "min       -9999.00\n",
              "25%          58.00\n",
              "50%          75.00\n",
              "75%          86.00\n",
              "max         100.00\n",
              "Name: UMIDADE RELATIVA DO AR, HORARIA (%), dtype: float64"
            ]
          },
          "metadata": {},
          "execution_count": 93
        }
      ]
    },
    {
      "cell_type": "markdown",
      "source": [
        "> Direção do vento: *VENTO, DIRECAO HORARIA (gr)*"
      ],
      "metadata": {
        "id": "VuJH8ATCBdS8"
      }
    },
    {
      "cell_type": "code",
      "source": [
        "describe_stats_vent = df_station_A802['VENTO, DIRECAO HORARIA (gr)'].describe()\n",
        "describe_stats_vent.round(2)"
      ],
      "metadata": {
        "colab": {
          "base_uri": "https://localhost:8080/"
        },
        "id": "f_dc3ff6BdgZ",
        "outputId": "d705823f-a63c-4500-ff83-7ef11122bfcb"
      },
      "execution_count": null,
      "outputs": [
        {
          "output_type": "execute_result",
          "data": {
            "text/plain": [
              "count    168408.00\n",
              "mean      -1983.39\n",
              "std        4129.94\n",
              "min       -9999.00\n",
              "25%          20.00\n",
              "50%          83.00\n",
              "75%         199.00\n",
              "max         360.00\n",
              "Name: VENTO, DIRECAO HORARIA (gr), dtype: float64"
            ]
          },
          "metadata": {},
          "execution_count": 92
        }
      ]
    },
    {
      "cell_type": "markdown",
      "source": [
        "> Rajada do vento: *VENTO, RAJADA MAXIMA (m/s)*"
      ],
      "metadata": {
        "id": "Qy_ug6c8C4EV"
      }
    },
    {
      "cell_type": "code",
      "source": [
        "describe_stats_raj = df_station_A802['VENTO, RAJADA MAXIMA (m/s)'].describe()\n",
        "describe_stats_raj.round(2)"
      ],
      "metadata": {
        "colab": {
          "base_uri": "https://localhost:8080/"
        },
        "id": "x45BuGWdC-t0",
        "outputId": "ac1d77ab-c541-4ca0-a349-19d444e54fe9"
      },
      "execution_count": null,
      "outputs": [
        {
          "output_type": "execute_result",
          "data": {
            "text/plain": [
              "count    168408.00\n",
              "mean      -1927.01\n",
              "std        3951.22\n",
              "min       -9999.00\n",
              "25%           2.60\n",
              "50%           5.90\n",
              "75%           8.50\n",
              "max          30.60\n",
              "Name: VENTO, RAJADA MAXIMA (m/s), dtype: float64"
            ]
          },
          "metadata": {},
          "execution_count": 91
        }
      ]
    },
    {
      "cell_type": "markdown",
      "source": [
        "◼ Drop colunas"
      ],
      "metadata": {
        "id": "tKf2U7BCDMrc"
      }
    },
    {
      "cell_type": "code",
      "source": [
        "drop_matching_columns = [\n",
        "                         'PRECIPITACAO TOTAL HORARIO (mm)',\n",
        "                         'RADIACAO GLOBAL (W/m2)',\n",
        "                         'TEMPERATURA ORVALHO MAX. NA HORA ANT. (AUT) (C)',\n",
        "                         'TEMPERATURA ORVALHO MIN. NA HORA ANT. (AUT) (C)',\n",
        "                         'TEMPERATURA MAXIMA NA HORA ANT. (AUT) (C)',\n",
        "                         'TEMPERATURA MINIMA NA HORA ANT. (AUT) (C)'\n",
        "                         ]"
      ],
      "metadata": {
        "id": "eQh1CWKFFaer"
      },
      "execution_count": null,
      "outputs": []
    },
    {
      "cell_type": "code",
      "source": [
        "df_station_A802_droped = df_station_A802.drop(drop_matching_columns, axis=1).copy()\n"
      ],
      "metadata": {
        "id": "cOQaJQG9EsmR"
      },
      "execution_count": null,
      "outputs": []
    },
    {
      "cell_type": "markdown",
      "source": [
        "◼ Filtros e conversões"
      ],
      "metadata": {
        "id": "QxerLTXPHX9U"
      }
    },
    {
      "cell_type": "markdown",
      "source": [
        "> Converter coluna: *DATA (YYYY-MM-DD)* para datetime"
      ],
      "metadata": {
        "id": "VkJ2ygHqJqqh"
      }
    },
    {
      "cell_type": "code",
      "source": [
        "df_station_A802_droped['DATA (YYYY-MM-DD)'] = dd.to_datetime(df_station_A802_droped['DATA (YYYY-MM-DD)'], unit='ns')"
      ],
      "metadata": {
        "id": "cD70POxIEzAX"
      },
      "execution_count": null,
      "outputs": []
    },
    {
      "cell_type": "markdown",
      "source": [
        "> Filtrando dataset apenas pelo ano de 2021"
      ],
      "metadata": {
        "id": "HsUZ7g4MK4m8"
      }
    },
    {
      "cell_type": "code",
      "source": [
        "df_filter_date = (df_station_A802_droped['DATA (YYYY-MM-DD)'] > '2020-12-31')\n",
        "df_filter_date = df_station_A802_droped.loc[df_filter_date]"
      ],
      "metadata": {
        "id": "HJm6q1dtB_87"
      },
      "execution_count": null,
      "outputs": []
    },
    {
      "cell_type": "markdown",
      "source": [
        "◼ Plot"
      ],
      "metadata": {
        "id": "7d1mMJPUhOKN"
      }
    },
    {
      "cell_type": "code",
      "source": [
        "plt.figure( figsize = (18, 5)) \n",
        "sns.lineplot(x='DATA (YYYY-MM-DD)', \n",
        "             y='PRESSAO ATMOSFERICA AO NIVEL DA ESTACAO, HORARIA (mB)', \n",
        "             data=df_filter_date, \n",
        "             label='Pressão Atmosferica em 2021')\n",
        "plt.xlabel('Data') \n",
        "plt.ylabel('Pressão atmosferica no ano de 2021') "
      ],
      "metadata": {
        "colab": {
          "base_uri": "https://localhost:8080/",
          "height": 386
        },
        "id": "rFlftYHVH2qG",
        "outputId": "6022eb13-c986-4cd1-becf-22005c1e149c"
      },
      "execution_count": null,
      "outputs": [
        {
          "output_type": "execute_result",
          "data": {
            "text/plain": [
              "Text(0, 0.5, 'Pressão atmosferica no ano de 2021')"
            ]
          },
          "metadata": {},
          "execution_count": 108
        },
        {
          "output_type": "display_data",
          "data": {
            "text/plain": [
              "<Figure size 1296x360 with 1 Axes>"
            ],
            "image/png": "[encoded data removed]"
          },
          "metadata": {}
        }
      ]
    },
    {
      "cell_type": "markdown",
      "source": [
        "◼ Transferiando os dados processados para o destino data processed"
      ],
      "metadata": {
        "id": "93Y0Z_DWN1L0"
      }
    },
    {
      "cell_type": "code",
      "source": [
        "df_station_A802_droped.to_csv('station_A802.csv', encoding='utf-8')"
      ],
      "metadata": {
        "id": "njjQ4-u1W0J8"
      },
      "execution_count": null,
      "outputs": []
    }
  ]
}